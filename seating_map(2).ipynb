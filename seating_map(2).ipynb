{
  "cells": [
    {
      "cell_type": "code",
      "execution_count": 777,
      "id": "7c991c0c-a168-4990-807b-634fc5e8acd2",
      "metadata": {
        "id": "7c991c0c-a168-4990-807b-634fc5e8acd2"
      },
      "outputs": [],
      "source": [
        "import torch\n",
        "import torch.nn as nn\n",
        "import torch.nn.functional as F\n",
        "import torch.optim as optim\n",
        "import random\n",
        "import networkx as nx\n",
        "import matplotlib.pyplot as plt\n",
        "import numpy as np\n",
        "\n",
        "Nu_of_conflicts =100 # Number of conflicts 10*2=20\n",
        "Rows = 4\n",
        "Colums = 4\n",
        "group_size =2\n",
        "Nof_users = Rows * Colums\n",
        "\n"
      ]
    },
    {
      "cell_type": "code",
      "execution_count": 778,
      "id": "2c41bf42-4bcb-4484-926e-7af9434f9af9",
      "metadata": {
        "id": "2c41bf42-4bcb-4484-926e-7af9434f9af9"
      },
      "outputs": [],
      "source": [
        "class SinkhornNet(nn.Module):\n",
        "    def __init__(self, input_size, hidden_size1, hidden_size2, output_size):\n",
        "        super(SinkhornNet, self).__init__()\n",
        "        self.fc1 = nn.Linear(input_size, hidden_size1)\n",
        "        self.fc2 = nn.Linear(hidden_size1, hidden_size2)\n",
        "        self.fc3 = nn.Linear(hidden_size2, output_size)\n",
        "\n",
        "    def forward(self, x):\n",
        "        x = F.relu(self.fc1(x))\n",
        "        x = F.relu(self.fc2(x))\n",
        "        x = self.fc3(x)\n",
        "        x = x.view(-1, Nof_users, Nof_users)\n",
        "        x = torch.sigmoid(x)  # Apply sigmoid activation to squash values between 0 and 1\n",
        "        return x\n",
        "\n",
        "# Adding Noise to the Weights\n",
        "def add_noise_to_weights(model, noise_factor):\n",
        "    for param in model.parameters():\n",
        "        noise = torch.randn_like(param) * noise_factor\n",
        "        param.data += noise\n"
      ]
    },
    {
      "cell_type": "code",
      "execution_count": 779,
      "id": "a2823d19-b922-4249-86e0-0f23ef22b157",
      "metadata": {
        "id": "a2823d19-b922-4249-86e0-0f23ef22b157"
      },
      "outputs": [],
      "source": [
        "\n",
        "def print_person_seat_assignments(model_output, threshold=0.5):\n",
        "    \"\"\"\n",
        "    Prints the person-seat assignments based on the output tensor from the model.\n",
        "\n",
        "    Args:\n",
        "        model_output (torch.Tensor): The output tensor from the model.\n",
        "        threshold (float, optional): The threshold value for binarizing the output tensor. Default is 0.5.\n",
        "\n",
        "    Returns:\n",
        "        None\n",
        "    \"\"\"\n",
        "    # Reshape the output to a 3D tensor\n",
        "    reshaped_output = model_output.view(1, Nof_users, Nof_users)\n",
        "\n",
        "    # Apply thresholding to obtain a binary permutation matrix\n",
        "    binary_perm_matrix = (reshaped_output > threshold).float()\n",
        "\n",
        "    # Initialize the person-seat assignments list\n",
        "    person_seat_assignments = []\n",
        "\n",
        "    # Iterate over rows and collect person-seat assignments\n",
        "    for row_idx, row in enumerate(binary_perm_matrix[0]):\n",
        "        for seat_idx, value in enumerate(row):\n",
        "            if value == 1:\n",
        "                person_seat_assignments.append((row_idx, seat_idx))\n",
        "\n",
        "    # Print the person-seat assignments\n",
        "#    for person, seat in person_seat_assignments:\n",
        "#        print(f\"Person {person} - Seat {seat}\")\n",
        "\n",
        "    return person_seat_assignments"
      ]
    },
    {
      "cell_type": "markdown",
      "source": [],
      "metadata": {
        "id": "o3VUTx6OyTTk"
      },
      "id": "o3VUTx6OyTTk"
    },
    {
      "cell_type": "markdown",
      "source": [],
      "metadata": {
        "id": "FbfLIk9IFcXR"
      },
      "id": "FbfLIk9IFcXR"
    },
    {
      "cell_type": "code",
      "execution_count": 780,
      "id": "d4c66b39-644f-4055-ba23-608a60391148",
      "metadata": {
        "id": "d4c66b39-644f-4055-ba23-608a60391148"
      },
      "outputs": [],
      "source": [
        "import torch\n",
        "\n",
        "def custom_loss(output, pairwise_conflicts, seat_rows=4, seat_cols=6, high_importance=20.0, groups=None, group_penalty=0.2, conflict_penalty=1):\n",
        "    \"\"\"\n",
        "    Custom loss function to evaluate the seating arrangement.\n",
        "\n",
        "    Args:\n",
        "    - output (torch.Tensor): Output tensor of shape (batch_size, n_persons, n_seats).\n",
        "                             Each element represents the assignment probability of a person to a seat.\n",
        "    - pairwise_conflicts (torch.Tensor): Conflict matrix of shape (n_persons, n_persons).\n",
        "                                         Each element is 1 if the corresponding persons have a conflict, else 0.\n",
        "    - seat_rows (int): Number of rows in the seating arrangement.\n",
        "    - seat_cols (int): Number of columns in the seating arrangement.\n",
        "    - high_importance (float): Factor to give higher importance to person-seat assignment constraints.\n",
        "    - groups (list of lists): A list of lists where each inner list contains indices of persons in the same group.\n",
        "    - group_penalty (float): Penalty for each neighbor who is not a group mate.\n",
        "    - conflict_penalty (float): Penalty factor for conflicts.\n",
        "\n",
        "    Returns:\n",
        "    - torch.Tensor: Calculated loss based on seat assignment constraints and conflicts.\n",
        "    \"\"\"\n",
        "    batch_size, n_persons, n_seats = output.size()\n",
        "\n",
        "    assert n_persons == seat_rows * seat_cols, f\"Number of persons ({n_persons}) must be equal to the total number of seats ({seat_rows * seat_cols})\"\n",
        "    assert n_seats == seat_rows * seat_cols, f\"Number of seats ({n_seats}) must match seat rows * seat cols ({seat_rows * seat_cols})\"\n",
        "    assert isinstance(groups, list) and all(isinstance(group, list) for group in groups), \"Groups must be a list of lists\"\n",
        "\n",
        "    # Ensure each person gets a unique seat (rows should sum to 1)\n",
        "    row_sum_loss = torch.sum((torch.sum(output, dim=2) - 1) ** 2) * high_importance\n",
        "\n",
        "    # Ensure each seat is assigned to only one person (columns should sum to 1)\n",
        "    col_sum_loss = torch.sum((torch.sum(output, dim=1) - 1) ** 2) * high_importance\n",
        "\n",
        "    # Initialize conflict loss\n",
        "    conflict_loss = 0\n",
        "\n",
        "    # Initialize group mate loss\n",
        "    group_mate_loss = 0\n",
        "\n",
        "    # Reshape the output to match the seating arrangement dimensions\n",
        "    output_reshaped = output.view(batch_size, seat_rows, seat_cols, n_persons)\n",
        "\n",
        "    # Create a dictionary to map persons to their groups\n",
        "    person_to_group = {}\n",
        "    for group_idx, group in enumerate(groups):\n",
        "        for person in group:\n",
        "            person_to_group[person] = group_idx\n",
        "\n",
        "    # Iterate over each seat in the seating arrangement\n",
        "    for i in range(seat_rows):\n",
        "        for j in range(seat_cols):\n",
        "            person_idx = i * seat_cols + j  # Index of the person in the original flat tensor\n",
        "            person_prob = output_reshaped[:, i, j, :]  # Probability distribution of the person in the seat\n",
        "\n",
        "            neighbors = []\n",
        "            if i > 0:  # Up\n",
        "                neighbor_up_idx = (i - 1) * seat_cols + j\n",
        "                neighbor_up_prob = output_reshaped[:, i - 1, j, :]\n",
        "                conflict_loss += torch.sum(person_prob * neighbor_up_prob * (pairwise_conflicts[person_idx, neighbor_up_idx] == 1).float() * conflict_penalty)\n",
        "                neighbors.append(neighbor_up_idx)\n",
        "            if i < seat_rows - 1:  # Down\n",
        "                neighbor_down_idx = (i + 1) * seat_cols + j\n",
        "                neighbor_down_prob = output_reshaped[:, i + 1, j, :]\n",
        "                conflict_loss += torch.sum(person_prob * neighbor_down_prob * (pairwise_conflicts[person_idx, neighbor_down_idx] == 1).float() * conflict_penalty)\n",
        "                neighbors.append(neighbor_down_idx)\n",
        "            if j > 0:  # Left\n",
        "                neighbor_left_idx = i * seat_cols + (j - 1)\n",
        "                neighbor_left_prob = output_reshaped[:, i, j - 1, :]\n",
        "                conflict_loss += torch.sum(person_prob * neighbor_left_prob * (pairwise_conflicts[person_idx, neighbor_left_idx] == 1).float() * conflict_penalty)\n",
        "                neighbors.append(neighbor_left_idx)\n",
        "            if j < seat_cols - 1:  # Right\n",
        "                neighbor_right_idx = i * seat_cols + (j + 1)\n",
        "                neighbor_right_prob = output_reshaped[:, i, j + 1, :]\n",
        "                conflict_loss += torch.sum(person_prob * neighbor_right_prob * (pairwise_conflicts[person_idx, neighbor_right_idx] == 1).float() * conflict_penalty)\n",
        "                neighbors.append(neighbor_right_idx)\n",
        "\n",
        "            # Calculate the number of group mates around the current person\n",
        "            group_idx = person_to_group.get(person_idx, -1)\n",
        "            group_mates_around = 0\n",
        "            for neighbor_idx in neighbors:\n",
        "                if person_to_group.get(neighbor_idx, -1) == group_idx:\n",
        "                    group_mates_around += 1\n",
        "\n",
        "            # Add to the group mate loss if not all neighbors are group mates\n",
        "            if group_idx != -1:  # Only penalize if the person belongs to a group\n",
        "                group_mate_loss += (8 - group_mates_around) * group_penalty * torch.sum(person_prob)\n",
        "\n",
        "    # Combine all the losses\n",
        "    total_loss = row_sum_loss + col_sum_loss + conflict_loss + group_mate_loss\n",
        "\n",
        "    print(f\"Row Sum Loss: {row_sum_loss}, Col Sum Loss: {col_sum_loss}, Conflict Loss: {conflict_loss}, Group Mate Loss: {group_mate_loss}\")\n",
        "\n",
        "    return total_loss\n"
      ]
    },
    {
      "cell_type": "code",
      "execution_count": 781,
      "id": "a378a153-6fd6-4854-b6b6-4aa7624f3ac8",
      "metadata": {
        "id": "a378a153-6fd6-4854-b6b6-4aa7624f3ac8"
      },
      "outputs": [],
      "source": [
        "def print_conflicts(pairwise_conflicts):\n",
        "    num_persons = pairwise_conflicts.size(0)\n",
        "\n",
        "    for person in range(num_persons):\n",
        "        conflicts = []\n",
        "        for other_person in range(num_persons):\n",
        "            if pairwise_conflicts[person, other_person] == 1:\n",
        "                conflicts.append(other_person)\n",
        "\n",
        "        if conflicts:\n",
        "            print(f\"Person {person} has conflicts with:\", \", \".join(f\"Person {c}\" for c in conflicts))\n",
        "        else:\n",
        "            print(f\"Person {person} has no conflicts.\")\n",
        "\n",
        "def visualize_conflicts(pairwise_conflicts):\n",
        "    num_persons = pairwise_conflicts.size(0)\n",
        "    G = nx.Graph()\n",
        "\n",
        "    # Add nodes (persons)\n",
        "    for person in range(num_persons):\n",
        "        G.add_node(person, label=f\"Person {person}\")\n",
        "\n",
        "    # Add edges (conflicts)\n",
        "    for person1 in range(num_persons):\n",
        "        for person2 in range(person1 + 1, num_persons):\n",
        "            if pairwise_conflicts[person1, person2] == 1:\n",
        "                G.add_edge(person1, person2)\n",
        "\n",
        "    # Draw the graph\n",
        "    pos = nx.spring_layout(G)\n",
        "    nx.draw(G, pos, with_labels=True, node_color='skyblue', edge_color='gray', font_size=8, node_size=200)\n",
        "    plt.axis('equal')\n",
        "    plt.show()\n",
        "\n"
      ]
    },
    {
      "cell_type": "code",
      "execution_count": 782,
      "id": "abb427ea-da68-4c9b-9b53-1b34ff73eee6",
      "metadata": {
        "id": "abb427ea-da68-4c9b-9b53-1b34ff73eee6"
      },
      "outputs": [],
      "source": [
        "import matplotlib.pyplot as plt\n",
        "import numpy as np\n",
        "\n",
        "def visualize_seating_arrangement(person_seat_assignments, pairwise_conflicts, full_names, groups):\n",
        "    \"\"\"\n",
        "    Visualizes the seating arrangement in a 4x6 grid with circles representing persons.\n",
        "    If two persons with conflicts are sitting next to each other (right, left, top, or down),\n",
        "    their circles will be red. Persons in the same group will have a different color.\n",
        "\n",
        "    Args:\n",
        "        person_seat_assignments (list): A list of tuples where each tuple is (person, seat).\n",
        "        pairwise_conflicts (torch.Tensor): A 24x24 tensor where 0 means no conflict, and 1 means conflict.\n",
        "        full_names (list): A list containing the full names for each person.\n",
        "        groups (list of lists): A list of lists where each inner list contains indices of persons in the same group.\n",
        "    \"\"\"\n",
        "    fig, ax = plt.subplots(4, 6, figsize=(12, 8))\n",
        "    fig.suptitle('Seating Plan')\n",
        "    # Clear the axes\n",
        "    for a in ax.flat:\n",
        "        a.clear()\n",
        "\n",
        "    seat_person_map = {seat: person for person, seat in person_seat_assignments}\n",
        "\n",
        "    ax_array = np.empty((4, 6), dtype=object)\n",
        "\n",
        "    for i in range(4):\n",
        "        for j in range(6):\n",
        "            seat = i * 6 + j\n",
        "            person = seat_person_map.get(seat)\n",
        "            color = 'green'\n",
        "            radius = 0.4  # default radius\n",
        "\n",
        "            if person is not None:\n",
        "                # Determine the color based on conflicts and group membership\n",
        "                adjacent_seats = [\n",
        "                    seat - 1 if j > 0 else None,  # Left\n",
        "                    seat + 1 if j < 5 else None,  # Right\n",
        "                    seat - 6 if i > 0 else None,  # Top\n",
        "                    seat + 6 if i < 3 else None,  # Down\n",
        "                ]\n",
        "\n",
        "                in_same_group = False\n",
        "                for group in groups:\n",
        "                    if person in group:\n",
        "                        in_same_group = True\n",
        "                        break\n",
        "\n",
        "                if in_same_group:\n",
        "                    color = 'blue'  # Assign a different color for persons in the same group\n",
        "                else:\n",
        "                    for adjacent_seat in adjacent_seats:\n",
        "                        if adjacent_seat is not None:\n",
        "                            adjacent_person = seat_person_map.get(adjacent_seat)\n",
        "                            if adjacent_person is not None:\n",
        "                                conflict = pairwise_conflicts[person, adjacent_person].item()\n",
        "                                if conflict == 1:\n",
        "                                    color = 'red'\n",
        "                                    radius = 0.5\n",
        "                                    break\n",
        "\n",
        "            if person is not None:\n",
        "                ax[i, j].add_patch(plt.Circle((0.5, 0.5), radius, color=color))\n",
        "                ax[i, j].text(0.5, 0.55, str(person), ha='center', va='center', fontsize=12)\n",
        "                ax[i, j].text(0.5, 0.95, full_names[person], ha='center', va='center', fontsize=8)\n",
        "                ax_array[i, j] = str(person)\n",
        "\n",
        "            ax[i, j].set_aspect('equal')\n",
        "            ax[i, j].axis('off')\n",
        "\n",
        "    plt.show()\n",
        "    return ax_array\n"
      ]
    },
    {
      "cell_type": "code",
      "execution_count": 783,
      "id": "49361f30-77de-4c62-bb52-e1838c52ce6f",
      "metadata": {
        "id": "49361f30-77de-4c62-bb52-e1838c52ce6f"
      },
      "outputs": [],
      "source": [
        "def animate_seating_arrangement(person_seat_assignments, pairwise_conflicts, full_names, fig, ax):\n",
        "    # Clear the axes\n",
        "    for a in ax.flat:\n",
        "        a.clear()\n",
        "\n",
        "    seat_person_map = {seat: person for person, seat in person_seat_assignments}\n",
        "\n",
        "    green_count = 0\n",
        "    red_count = 0\n",
        "\n",
        "    for i in range(Rows):\n",
        "        for j in range(Colums):\n",
        "            seat = i * Colums + j\n",
        "            person = seat_person_map.get(seat)\n",
        "            color = 'green'\n",
        "            radius = 0.4  # default radius\n",
        "\n",
        "            if person is not None:\n",
        "                # Check for conflicts with adjacent seats\n",
        "                adjacent_seats = [\n",
        "                    seat - 1 if j > 0 else None,  # Left\n",
        "                    seat + 1 if j < Colums-1 else None,  # Right\n",
        "                    seat - Colums if i > 0 else None,  # Top\n",
        "                    seat + Colums if i < Rows-1 else None,  # Down\n",
        "                ]\n",
        "\n",
        "                for adjacent_seat in adjacent_seats:\n",
        "                    if adjacent_seat is not None:\n",
        "                        adjacent_person = seat_person_map.get(adjacent_seat)\n",
        "                        if adjacent_person is not None:\n",
        "                            conflict = pairwise_conflicts[person, adjacent_person].item()\n",
        "                            if conflict == 1:\n",
        "                                color = 'red'\n",
        "                                radius = 0.5\n",
        "                                break\n",
        "\n",
        "                if color == 'green':\n",
        "                    green_count += 1\n",
        "                elif color == 'red':\n",
        "                    red_count += 1\n",
        "\n",
        "                ax[i, j].add_patch(plt.Circle((0.5, 0.5), radius, color=color))\n",
        "                ax[i, j].text(0.5, 0.55, str(person), ha='center', va='center', fontsize=12)\n",
        "                ax[i, j].text(0.5, 0.95, full_names[person], ha='center', va='center', fontsize=8)\n",
        "\n",
        "            ax[i, j].set_aspect('equal')\n",
        "            ax[i, j].axis('off')\n",
        "\n",
        "    fig.suptitle(f'Seating Plan\\nGreen seats: {green_count}, Red seats: {red_count}')\n",
        "\n",
        "    plt.draw()\n",
        "    plt.pause(0.1)  # Adjust the pause duration as needed\n",
        "\n",
        "    return green_count, red_count\n"
      ]
    },
    {
      "cell_type": "code",
      "execution_count": 784,
      "id": "2047e4a8-2565-408a-a146-c4110b232b0f",
      "metadata": {
        "colab": {
          "base_uri": "https://localhost:8080/"
        },
        "id": "2047e4a8-2565-408a-a146-c4110b232b0f",
        "outputId": "df775256-cf63-44a2-8557-4d277ff7e138"
      },
      "outputs": [
        {
          "output_type": "stream",
          "name": "stdout",
          "text": [
            "Mehdi Rahimi\n",
            "Hossein Rahimi\n",
            "Roya Rostami\n",
            "Sara Rostami\n",
            "Roya Hosseinzadeh\n",
            "Ali Niknam\n",
            "Ali Ahmadi\n",
            "Mohammad Rahimi\n",
            "Roya Hosseini\n",
            "Hamed Hosseini\n",
            "Mehdi Hosseini\n",
            "Narges Moradi\n",
            "Zahra Rahimi\n",
            "Narges Ahmadi\n",
            "Sara Karimi\n",
            "Hamed Niknam\n"
          ]
        }
      ],
      "source": [
        "# Generate names for persona_indices\n",
        "\n",
        "random.seed(42)\n",
        "torch.manual_seed(42)\n",
        "\n",
        "first_names = [\n",
        "    \"Ali\", \"Zahra\", \"Reza\", \"Sara\", \"Mohammad\", \"Fatemeh\",\n",
        "    \"Hossein\", \"Maryam\", \"Mehdi\", \"Narges\", \"Hamed\", \"Roya\"\n",
        "]\n",
        "\n",
        "last_names = [\n",
        "    \"Ahmadi\", \"Hosseini\", \"Karimi\", \"Rahimi\", \"Hashemi\", \"Ebrahimi\",\n",
        "    \"Moradi\", \"Mohammadi\", \"Rostami\", \"Fazeli\", \"Hosseinzadeh\", \"Niknam\"\n",
        "]\n",
        "\n",
        "full_names = set()\n",
        "while len(full_names) < Nof_users:\n",
        "    full_name = random.choice(first_names) + \" \" + random.choice(last_names)\n",
        "    full_names.add(full_name)\n",
        "full_names = list(full_names)\n",
        "\n",
        "# Print full_names in different rows\n",
        "for name in full_names:\n",
        "    print(name)\n",
        "\n",
        "# Generate persona indices\n",
        "persona_indices = torch.tensor(range(Nof_users), dtype=torch.float32)"
      ]
    },
    {
      "cell_type": "code",
      "execution_count": 785,
      "id": "9ae89e4e-67b2-40f6-b9d4-b3fab8495d8a",
      "metadata": {
        "colab": {
          "base_uri": "https://localhost:8080/"
        },
        "id": "9ae89e4e-67b2-40f6-b9d4-b3fab8495d8a",
        "outputId": "0a3235f7-74e5-4c00-a8b3-39fd08f18de1"
      },
      "outputs": [
        {
          "output_type": "stream",
          "name": "stdout",
          "text": [
            "Group: Ali Ahmadi, Sara Rostami\n",
            "Group: Mehdi Rahimi, Mohammad Rahimi\n",
            "Group: Mehdi Hosseini, Hamed Niknam\n",
            "Group: Roya Rostami, Zahra Rahimi\n",
            "Group: Sara Karimi, Hamed Hosseini\n",
            "Group: Roya Hosseini, Ali Niknam\n",
            "Group: Roya Hosseinzadeh, Narges Ahmadi\n",
            "Group: Narges Moradi, Hossein Rahimi\n",
            "tensor([[ 0,  1,  1,  1,  0,  1,  1, -1,  1,  1,  0,  1,  1,  1,  1,  0],\n",
            "        [ 1,  0,  1,  1,  1,  1,  1,  1,  0,  1,  0, -1,  1,  1,  1,  1],\n",
            "        [ 1,  1,  0,  1,  1,  1,  0,  1,  1,  1,  1,  1, -1,  1,  1,  1],\n",
            "        [ 1,  1,  1,  0,  1,  1, -1,  1,  1,  1,  1,  1,  1,  1,  1,  1],\n",
            "        [ 0,  1,  1,  1,  0,  1,  1,  1,  1,  1,  1,  1,  1, -1,  1,  1],\n",
            "        [ 1,  1,  1,  1,  1,  0,  1,  1, -1,  1,  1,  1,  1,  1,  1,  1],\n",
            "        [ 1,  1,  0, -1,  1,  1,  0,  1,  1,  1,  0,  1,  1,  1,  1,  1],\n",
            "        [-1,  1,  1,  1,  1,  1,  1,  0,  0,  1,  1,  1,  1,  1,  1,  1],\n",
            "        [ 1,  0,  1,  1,  1, -1,  1,  0,  0,  1,  1,  1,  1,  1,  1,  1],\n",
            "        [ 1,  1,  1,  1,  1,  1,  1,  1,  1,  0,  1,  1,  0,  0, -1,  1],\n",
            "        [ 0,  0,  1,  1,  1,  1,  0,  1,  1,  1,  0,  1,  1,  1,  0, -1],\n",
            "        [ 1, -1,  1,  1,  1,  1,  1,  1,  1,  1,  1,  0,  1,  1,  1,  1],\n",
            "        [ 1,  1, -1,  1,  1,  1,  1,  1,  1,  0,  1,  1,  0,  1,  1,  1],\n",
            "        [ 1,  1,  1,  1, -1,  1,  1,  1,  1,  0,  1,  1,  1,  0,  1,  1],\n",
            "        [ 1,  1,  1,  1,  1,  1,  1,  1,  1, -1,  0,  1,  1,  1,  0,  0],\n",
            "        [ 0,  1,  1,  1,  1,  1,  1,  1,  1,  1, -1,  1,  1,  1,  0,  0]],\n",
            "       dtype=torch.int32)\n"
          ]
        }
      ],
      "source": [
        "# Convert persona_indices to binary\n",
        "persona_indices_binary = F.one_hot(persona_indices.long(), num_classes=Nof_users).view(1, -1)\n",
        "persona_indices_binary = persona_indices_binary.type(torch.float64)\n",
        "\n",
        "\n",
        "# Generate pairwise conflicts matrix\n",
        "# pairwise_conflicts = torch.randint(0, 2, (Nof_users, Nof_users))\n",
        "\n",
        "# Initialize a pairwise conflicts matrix with zeros\n",
        "pairwise_conflicts = torch.zeros(Nof_users, Nof_users, dtype=torch.int)\n",
        "\n",
        "import torch\n",
        "import random\n",
        "\n",
        "def generate_relationship_pairs(matrix_size, group_size, num_conflicts, random_names):\n",
        "    # Initialize an empty relationship matrix\n",
        "    relationship_matrix = torch.zeros((matrix_size, matrix_size), dtype=torch.int)\n",
        "\n",
        "    # Function to randomly group users\n",
        "    def find_groups(matrix_size, group_size):\n",
        "        shuffled_indices = torch.randperm(matrix_size)  # Shuffle user indices\n",
        "        groups = []\n",
        "\n",
        "        current_group = []\n",
        "        for idx in shuffled_indices:\n",
        "            if len(current_group) < group_size:\n",
        "                current_group.append(idx.item())  # Convert tensor to int\n",
        "            else:\n",
        "                groups.append(current_group)\n",
        "                current_group = [idx.item()]\n",
        "\n",
        "        if current_group:  # Add the last group\n",
        "            groups.append(current_group)\n",
        "\n",
        "        return groups\n",
        "\n",
        "    # Function to assign conflicts randomly between groups\n",
        "    def assign_conflicts(num_conflicts, groups):\n",
        "        conflict_pairs = set()\n",
        "        while len(conflict_pairs) < num_conflicts:\n",
        "            # Choose random pairs from different groups\n",
        "            group1, group2 = random.sample(groups, 2)\n",
        "            user1 = random.choice(group1)\n",
        "            user2 = random.choice(group2)\n",
        "            if relationship_matrix[user1, user2] == 0:  # Ensure they are not already friends or in conflict\n",
        "                conflict_pairs.add((user1, user2))\n",
        "                relationship_matrix[user1, user2] = 1\n",
        "                relationship_matrix[user2, user1] = 1\n",
        "\n",
        "    # Initialize the relationship matrix and find groups\n",
        "    relationship_matrix = torch.zeros((matrix_size, matrix_size), dtype=torch.int)\n",
        "    groups = find_groups(matrix_size, group_size)\n",
        "\n",
        "    # Assign -1 (friends) within each group\n",
        "    for group in groups:\n",
        "        for i in range(len(group)):\n",
        "            for j in range(i + 1, len(group)):\n",
        "                user1 = group[i]\n",
        "                user2 = group[j]\n",
        "                relationship_matrix[user1, user2] = -1\n",
        "                relationship_matrix[user2, user1] = -1\n",
        "        # Convert indices to names for printing\n",
        "        group_names = [random_names[idx] for idx in group]\n",
        "        print(f\"Group: {', '.join(group_names)}\")\n",
        "\n",
        "    # Assign conflicts randomly between groups\n",
        "    assign_conflicts(num_conflicts, groups)\n",
        "\n",
        "    return relationship_matrix, groups\n",
        "\n",
        "# Example usage\n",
        "matrix_size = Nof_users\n",
        "num_conflicts = Nu_of_conflicts\n",
        "random_names = full_names\n",
        "\n",
        "\n",
        "relationship_tensor, grups = generate_relationship_pairs(matrix_size, group_size, num_conflicts, random_names)\n",
        "print(relationship_tensor)\n",
        "pairwise_conflicts = relationship_tensor"
      ]
    },
    {
      "cell_type": "code",
      "execution_count": 786,
      "id": "55a4ff3e-b5d4-4f98-9908-e0c81c1676bc",
      "metadata": {
        "id": "55a4ff3e-b5d4-4f98-9908-e0c81c1676bc"
      },
      "outputs": [],
      "source": [
        "# Instantiate the neural network\n",
        "input_size = Nof_users\n",
        "hidden_size1 = 800\n",
        "hidden_size2 = 400\n",
        "output_size = Nof_users * Nof_users\n",
        "model = SinkhornNet(input_size, hidden_size1,hidden_size2 , output_size)\n",
        "\n",
        "\n",
        "\n",
        "# Initialize the optimizer\n",
        "optimizer = optim.Adam(model.parameters(), lr=0.001)\n"
      ]
    },
    {
      "cell_type": "code",
      "execution_count": 787,
      "id": "bc9fbf0a-6a79-4fca-923b-af92a06647f4",
      "metadata": {
        "colab": {
          "base_uri": "https://localhost:8080/",
          "height": 1000
        },
        "id": "bc9fbf0a-6a79-4fca-923b-af92a06647f4",
        "outputId": "bdaf98d6-d3bf-491f-a249-9c73a38f8db9",
        "scrolled": true
      },
      "outputs": [
        {
          "output_type": "stream",
          "name": "stdout",
          "text": [
            "Row Sum Loss: 15261.32421875, Col Sum Loss: 15279.2666015625, Conflict Loss: 137.03367614746094, Group Mate Loss: 1006.8511962890625\n",
            "Row Sum Loss: 6061.6259765625, Col Sum Loss: 6107.306640625, Conflict Loss: 62.11091995239258, Group Mate Loss: 677.4795532226562\n",
            "Row Sum Loss: 1801.00341796875, Col Sum Loss: 1842.1539306640625, Conflict Loss: 24.176925659179688, Group Mate Loss: 420.6808166503906\n",
            "Row Sum Loss: 332.2620849609375, Col Sum Loss: 354.9470520019531, Conflict Loss: 7.626985549926758, Group Mate Loss: 239.3348846435547\n",
            "Row Sum Loss: 49.3842887878418, Col Sum Loss: 74.83191680908203, Conflict Loss: 2.2248170375823975, Group Mate Loss: 132.61715698242188\n",
            "Row Sum Loss: 82.18363952636719, Col Sum Loss: 99.97183990478516, Conflict Loss: 0.5870058536529541, Group Mate Loss: 73.15079498291016\n",
            "Row Sum Loss: 161.08309936523438, Col Sum Loss: 167.47972106933594, Conflict Loss: 0.12422101944684982, Group Mate Loss: 40.737876892089844\n",
            "Row Sum Loss: 216.9829559326172, Col Sum Loss: 218.73367309570312, Conflict Loss: 0.025234196335077286, Group Mate Loss: 24.46689224243164\n",
            "Row Sum Loss: 244.99771118164062, Col Sum Loss: 245.4853973388672, Conflict Loss: 0.005722393281757832, Group Mate Loss: 17.47390365600586\n",
            "Row Sum Loss: 254.1483154296875, Col Sum Loss: 254.2992401123047, Conflict Loss: 0.0015624149236828089, Group Mate Loss: 15.6548433303833\n",
            "Row Sum Loss: 251.5072021484375, Col Sum Loss: 251.5571746826172, Conflict Loss: 0.0005406169220805168, Group Mate Loss: 17.165725708007812\n",
            "Row Sum Loss: 241.65208435058594, Col Sum Loss: 241.66696166992188, Conflict Loss: 0.00024003689759410918, Group Mate Loss: 21.242399215698242\n",
            "Row Sum Loss: 229.6439971923828, Col Sum Loss: 229.64584350585938, Conflict Loss: 0.00012548388622235507, Group Mate Loss: 26.938133239746094\n",
            "Row Sum Loss: 220.74127197265625, Col Sum Loss: 220.73867797851562, Conflict Loss: 6.833899533376098e-05, Group Mate Loss: 32.63035202026367\n",
            "Row Sum Loss: 216.48199462890625, Col Sum Loss: 216.4787139892578, Conflict Loss: 3.650987855507992e-05, Group Mate Loss: 36.73142623901367\n",
            "Row Sum Loss: 214.30636596679688, Col Sum Loss: 214.3040771484375, Conflict Loss: 1.947537748492323e-05, Group Mate Loss: 39.154090881347656\n",
            "Row Sum Loss: 211.693603515625, Col Sum Loss: 211.69281005859375, Conflict Loss: 1.076536955224583e-05, Group Mate Loss: 40.79042434692383\n",
            "Row Sum Loss: 207.50099182128906, Col Sum Loss: 207.50164794921875, Conflict Loss: 6.312362074822886e-06, Group Mate Loss: 42.474727630615234\n",
            "Row Sum Loss: 202.80450439453125, Col Sum Loss: 202.80624389648438, Conflict Loss: 3.9420042412530165e-06, Group Mate Loss: 44.547359466552734\n",
            "Row Sum Loss: 200.35751342773438, Col Sum Loss: 200.35946655273438, Conflict Loss: 2.5463987185503356e-06, Group Mate Loss: 46.339786529541016\n"
          ]
        },
        {
          "output_type": "display_data",
          "data": {
            "text/plain": [
              "<Figure size 1200x800 with 16 Axes>"
            ],
            "image/png": "[encoded data removed]"
          },
          "metadata": {}
        },
        {
          "output_type": "stream",
          "name": "stdout",
          "text": [
            "Row Sum Loss: 199.93701171875, Col Sum Loss: 199.9447479248047, Conflict Loss: 1.027677262754878e-05, Group Mate Loss: 46.564292907714844\n",
            "Row Sum Loss: 199.2385711669922, Col Sum Loss: 199.24642944335938, Conflict Loss: 6.9638608692912385e-06, Group Mate Loss: 47.631141662597656\n",
            "Row Sum Loss: 198.5965118408203, Col Sum Loss: 198.6042938232422, Conflict Loss: 5.17067883265554e-06, Group Mate Loss: 48.02345657348633\n",
            "Row Sum Loss: 196.76710510253906, Col Sum Loss: 196.77589416503906, Conflict Loss: 4.4919302126800176e-06, Group Mate Loss: 48.512020111083984\n",
            "Row Sum Loss: 191.74685668945312, Col Sum Loss: 191.75848388671875, Conflict Loss: 5.414916813606396e-06, Group Mate Loss: 49.73185729980469\n",
            "Row Sum Loss: 182.9930419921875, Col Sum Loss: 183.01165771484375, Conflict Loss: 9.255692930310033e-06, Group Mate Loss: 52.68048095703125\n",
            "Row Sum Loss: 179.6633758544922, Col Sum Loss: 179.6918487548828, Conflict Loss: 1.3571335330198053e-05, Group Mate Loss: 55.28133010864258\n",
            "Row Sum Loss: 179.35531616210938, Col Sum Loss: 179.39376831054688, Conflict Loss: 1.59037208504742e-05, Group Mate Loss: 55.88365936279297\n",
            "Row Sum Loss: 179.07272338867188, Col Sum Loss: 179.12533569335938, Conflict Loss: 1.861884811660275e-05, Group Mate Loss: 56.003173828125\n",
            "Row Sum Loss: 178.54139709472656, Col Sum Loss: 178.6165771484375, Conflict Loss: 2.2867225197842345e-05, Group Mate Loss: 56.06873321533203\n",
            "Row Sum Loss: 177.40797424316406, Col Sum Loss: 177.52127075195312, Conflict Loss: 2.984781349368859e-05, Group Mate Loss: 56.20332717895508\n",
            "Row Sum Loss: 174.56753540039062, Col Sum Loss: 174.7495880126953, Conflict Loss: 4.203343269182369e-05, Group Mate Loss: 56.61966323852539\n",
            "Row Sum Loss: 166.30877685546875, Col Sum Loss: 166.618408203125, Conflict Loss: 6.582297646673396e-05, Group Mate Loss: 58.19210433959961\n",
            "Row Sum Loss: 149.20147705078125, Col Sum Loss: 149.73855590820312, Conflict Loss: 0.00011806798283942044, Group Mate Loss: 63.06976318359375\n",
            "Row Sum Loss: 136.68435668945312, Col Sum Loss: 137.67681884765625, Conflict Loss: 0.00024042799486778677, Group Mate Loss: 69.02611541748047\n",
            "Row Sum Loss: 126.82938385009766, Col Sum Loss: 128.67770385742188, Conflict Loss: 0.0005701232003048062, Group Mate Loss: 73.1313705444336\n",
            "Row Sum Loss: 117.03038024902344, Col Sum Loss: 120.66374969482422, Conflict Loss: 0.0017013010801747441, Group Mate Loss: 77.87712860107422\n",
            "Row Sum Loss: 111.5226058959961, Col Sum Loss: 119.68894958496094, Conflict Loss: 0.0070958384312689304, Group Mate Loss: 80.29563903808594\n",
            "Row Sum Loss: 99.93634033203125, Col Sum Loss: 120.50581359863281, Conflict Loss: 0.03994954377412796, Group Mate Loss: 83.39833068847656\n",
            "Row Sum Loss: 80.68208312988281, Col Sum Loss: 125.682861328125, Conflict Loss: 0.20550104975700378, Group Mate Loss: 89.56761932373047\n"
          ]
        },
        {
          "output_type": "display_data",
          "data": {
            "text/plain": [
              "<Figure size 640x480 with 0 Axes>"
            ]
          },
          "metadata": {}
        },
        {
          "output_type": "stream",
          "name": "stdout",
          "text": [
            "Row Sum Loss: 104.70562744140625, Col Sum Loss: 119.2730712890625, Conflict Loss: 0.006876335013657808, Group Mate Loss: 83.11697387695312\n",
            "Row Sum Loss: 90.08712005615234, Col Sum Loss: 116.15546417236328, Conflict Loss: 0.022530825808644295, Group Mate Loss: 88.32083129882812\n",
            "Row Sum Loss: 84.4796371459961, Col Sum Loss: 111.79431915283203, Conflict Loss: 0.08979073166847229, Group Mate Loss: 95.45733642578125\n",
            "Row Sum Loss: 78.27714538574219, Col Sum Loss: 107.90333557128906, Conflict Loss: 0.1804252564907074, Group Mate Loss: 95.4942626953125\n",
            "Row Sum Loss: 76.64509582519531, Col Sum Loss: 101.347900390625, Conflict Loss: 0.20249313116073608, Group Mate Loss: 93.82899475097656\n",
            "Row Sum Loss: 79.10289001464844, Col Sum Loss: 91.11761474609375, Conflict Loss: 0.16630670428276062, Group Mate Loss: 94.55467987060547\n",
            "Row Sum Loss: 78.05436706542969, Col Sum Loss: 83.23992919921875, Conflict Loss: 0.1723354011774063, Group Mate Loss: 98.82717895507812\n",
            "Row Sum Loss: 59.16604995727539, Col Sum Loss: 81.73992919921875, Conflict Loss: 0.27193596959114075, Group Mate Loss: 106.5087661743164\n",
            "Row Sum Loss: 37.96192932128906, Col Sum Loss: 80.62264251708984, Conflict Loss: 0.5408284068107605, Group Mate Loss: 116.95487976074219\n",
            "Row Sum Loss: 34.93741226196289, Col Sum Loss: 58.36864471435547, Conflict Loss: 0.464730441570282, Group Mate Loss: 118.18548583984375\n",
            "Row Sum Loss: 36.288970947265625, Col Sum Loss: 43.60185241699219, Conflict Loss: 0.21285223960876465, Group Mate Loss: 132.18077087402344\n",
            "Row Sum Loss: 44.351078033447266, Col Sum Loss: 26.201879501342773, Conflict Loss: 0.14200127124786377, Group Mate Loss: 117.6536636352539\n",
            "Row Sum Loss: 46.21601867675781, Col Sum Loss: 21.739826202392578, Conflict Loss: 0.18148450553417206, Group Mate Loss: 119.98629760742188\n",
            "Row Sum Loss: 40.723175048828125, Col Sum Loss: 12.163310050964355, Conflict Loss: 0.2644495368003845, Group Mate Loss: 129.5618896484375\n",
            "Row Sum Loss: 27.218318939208984, Col Sum Loss: 13.659048080444336, Conflict Loss: 0.15322504937648773, Group Mate Loss: 125.28089904785156\n",
            "Row Sum Loss: 21.335731506347656, Col Sum Loss: 22.44561195373535, Conflict Loss: 0.09197975695133209, Group Mate Loss: 120.53288269042969\n",
            "Row Sum Loss: 17.455392837524414, Col Sum Loss: 22.12132453918457, Conflict Loss: 0.07961683720350266, Group Mate Loss: 121.08446502685547\n",
            "Row Sum Loss: 12.562938690185547, Col Sum Loss: 15.730389595031738, Conflict Loss: 0.09729193896055222, Group Mate Loss: 125.35802459716797\n",
            "Row Sum Loss: 10.079985618591309, Col Sum Loss: 10.464825630187988, Conflict Loss: 0.18109698593616486, Group Mate Loss: 128.29576110839844\n",
            "Row Sum Loss: 10.681884765625, Col Sum Loss: 10.978341102600098, Conflict Loss: 0.4404606819152832, Group Mate Loss: 125.62374877929688\n"
          ]
        },
        {
          "output_type": "display_data",
          "data": {
            "text/plain": [
              "<Figure size 640x480 with 0 Axes>"
            ]
          },
          "metadata": {}
        },
        {
          "output_type": "stream",
          "name": "stdout",
          "text": [
            "Row Sum Loss: 8.871899604797363, Col Sum Loss: 19.164936065673828, Conflict Loss: 0.21415528655052185, Group Mate Loss: 120.86104583740234\n",
            "Row Sum Loss: 9.103671073913574, Col Sum Loss: 13.835577011108398, Conflict Loss: 0.3487226963043213, Group Mate Loss: 119.9094009399414\n",
            "Row Sum Loss: 6.501945972442627, Col Sum Loss: 11.21656322479248, Conflict Loss: 0.6668002605438232, Group Mate Loss: 125.14836883544922\n",
            "Row Sum Loss: 4.862319469451904, Col Sum Loss: 5.483451843261719, Conflict Loss: 0.35394155979156494, Group Mate Loss: 124.38423919677734\n",
            "Row Sum Loss: 4.723841667175293, Col Sum Loss: 1.781476616859436, Conflict Loss: 0.2317577451467514, Group Mate Loss: 125.51261901855469\n",
            "Row Sum Loss: 6.195991039276123, Col Sum Loss: 2.134763717651367, Conflict Loss: 0.24843022227287292, Group Mate Loss: 124.08040618896484\n",
            "Row Sum Loss: 7.38178825378418, Col Sum Loss: 3.8950839042663574, Conflict Loss: 0.1369345635175705, Group Mate Loss: 119.14883422851562\n",
            "Row Sum Loss: 2.1059350967407227, Col Sum Loss: 1.462104320526123, Conflict Loss: 0.14190107583999634, Group Mate Loss: 124.00348663330078\n",
            "Row Sum Loss: 2.388129234313965, Col Sum Loss: 1.9066113233566284, Conflict Loss: 0.0832996815443039, Group Mate Loss: 121.3967056274414\n",
            "Row Sum Loss: 2.692124605178833, Col Sum Loss: 2.46482515335083, Conflict Loss: 0.059440795332193375, Group Mate Loss: 120.69855499267578\n",
            "Row Sum Loss: 1.4086849689483643, Col Sum Loss: 1.5085484981536865, Conflict Loss: 0.05330371856689453, Group Mate Loss: 123.4234619140625\n",
            "Row Sum Loss: 2.1447906494140625, Col Sum Loss: 2.552456855773926, Conflict Loss: 0.03431370109319687, Group Mate Loss: 121.07759094238281\n",
            "Row Sum Loss: 1.0005005598068237, Col Sum Loss: 1.0416961908340454, Conflict Loss: 0.030881375074386597, Group Mate Loss: 123.17083740234375\n",
            "Row Sum Loss: 0.8407820463180542, Col Sum Loss: 0.8788332939147949, Conflict Loss: 0.02549874782562256, Group Mate Loss: 123.55732727050781\n",
            "Row Sum Loss: 2.5023531913757324, Col Sum Loss: 2.443549871444702, Conflict Loss: 0.017186641693115234, Group Mate Loss: 120.57473754882812\n",
            "Row Sum Loss: 1.615403652191162, Col Sum Loss: 1.570021152496338, Conflict Loss: 0.014393772929906845, Group Mate Loss: 121.83497619628906\n",
            "Row Sum Loss: 1.163276195526123, Col Sum Loss: 1.0971522331237793, Conflict Loss: 0.011517176404595375, Group Mate Loss: 122.53143310546875\n",
            "Row Sum Loss: 2.4550578594207764, Col Sum Loss: 2.7568912506103516, Conflict Loss: 0.007718871813267469, Group Mate Loss: 119.56600189208984\n",
            "Row Sum Loss: 2.130126714706421, Col Sum Loss: 2.191796064376831, Conflict Loss: 0.006459571421146393, Group Mate Loss: 120.03248596191406\n",
            "Row Sum Loss: 2.1463699340820312, Col Sum Loss: 2.0051357746124268, Conflict Loss: 0.0057044867426157, Group Mate Loss: 120.7120361328125\n"
          ]
        },
        {
          "output_type": "display_data",
          "data": {
            "text/plain": [
              "<Figure size 640x480 with 0 Axes>"
            ]
          },
          "metadata": {}
        },
        {
          "output_type": "stream",
          "name": "stdout",
          "text": [
            "Row Sum Loss: 15.736368179321289, Col Sum Loss: 15.57354736328125, Conflict Loss: 0.002776648150756955, Group Mate Loss: 110.91551208496094\n",
            "Row Sum Loss: 3.8315584659576416, Col Sum Loss: 2.792386054992676, Conflict Loss: 0.0038678257260471582, Group Mate Loss: 125.10660552978516\n",
            "Row Sum Loss: 2.0461318492889404, Col Sum Loss: 2.335310459136963, Conflict Loss: 0.0028613777831196785, Group Mate Loss: 123.58504486083984\n",
            "Row Sum Loss: 4.888113975524902, Col Sum Loss: 7.245955944061279, Conflict Loss: 0.0019450740655884147, Group Mate Loss: 117.81204223632812\n",
            "Row Sum Loss: 5.000487327575684, Col Sum Loss: 6.26298713684082, Conflict Loss: 0.0018750674789771438, Group Mate Loss: 117.07256317138672\n",
            "Row Sum Loss: 2.698122978210449, Col Sum Loss: 1.935335397720337, Conflict Loss: 0.0023542901035398245, Group Mate Loss: 121.2345199584961\n",
            "Row Sum Loss: 2.6678667068481445, Col Sum Loss: 2.9631786346435547, Conflict Loss: 0.0023727796506136656, Group Mate Loss: 121.26618957519531\n",
            "Row Sum Loss: 4.0936665534973145, Col Sum Loss: 4.773622989654541, Conflict Loss: 0.0018397789681330323, Group Mate Loss: 117.56718444824219\n",
            "Row Sum Loss: 3.455540895462036, Col Sum Loss: 3.7094826698303223, Conflict Loss: 0.0016359449364244938, Group Mate Loss: 118.22142791748047\n",
            "Row Sum Loss: 1.6562368869781494, Col Sum Loss: 1.544075608253479, Conflict Loss: 0.0016074171289801598, Group Mate Loss: 120.97837829589844\n",
            "Row Sum Loss: 1.3812285661697388, Col Sum Loss: 1.1231224536895752, Conflict Loss: 0.0015515347477048635, Group Mate Loss: 122.38433837890625\n",
            "Row Sum Loss: 1.4067702293395996, Col Sum Loss: 1.209453821182251, Conflict Loss: 0.0014246533391997218, Group Mate Loss: 122.45023345947266\n",
            "Row Sum Loss: 1.5464773178100586, Col Sum Loss: 1.459692120552063, Conflict Loss: 0.0012652929872274399, Group Mate Loss: 121.82022857666016\n",
            "Row Sum Loss: 1.8050768375396729, Col Sum Loss: 1.806107997894287, Conflict Loss: 0.001111426274292171, Group Mate Loss: 120.92756652832031\n",
            "Row Sum Loss: 2.1573448181152344, Col Sum Loss: 2.20346736907959, Conflict Loss: 0.000984060694463551, Group Mate Loss: 119.99494171142578\n",
            "Row Sum Loss: 2.520085334777832, Col Sum Loss: 2.5781331062316895, Conflict Loss: 0.0008903542184270918, Group Mate Loss: 119.2390365600586\n",
            "Row Sum Loss: 2.5939908027648926, Col Sum Loss: 2.6487374305725098, Conflict Loss: 0.0008311148267239332, Group Mate Loss: 119.01083374023438\n",
            "Row Sum Loss: 2.3865208625793457, Col Sum Loss: 2.4324898719787598, Conflict Loss: 0.000800353183876723, Group Mate Loss: 119.22806549072266\n",
            "Row Sum Loss: 2.124340057373047, Col Sum Loss: 2.1610231399536133, Conflict Loss: 0.0007862780475988984, Group Mate Loss: 119.59241485595703\n",
            "Row Sum Loss: 1.9459493160247803, Col Sum Loss: 1.9755465984344482, Conflict Loss: 0.0007766588241793215, Group Mate Loss: 119.87423706054688\n"
          ]
        },
        {
          "output_type": "display_data",
          "data": {
            "text/plain": [
              "<Figure size 640x480 with 0 Axes>"
            ]
          },
          "metadata": {}
        },
        {
          "output_type": "stream",
          "name": "stdout",
          "text": [
            "Row Sum Loss: 34.13294219970703, Col Sum Loss: 36.6820068359375, Conflict Loss: 0.0010044336086139083, Group Mate Loss: 102.13446807861328\n",
            "Row Sum Loss: 8.27393913269043, Col Sum Loss: 8.876092910766602, Conflict Loss: 0.0012359513202682137, Group Mate Loss: 115.7814712524414\n",
            "Row Sum Loss: 1.4612972736358643, Col Sum Loss: 0.70368492603302, Conflict Loss: 0.0009664500830695033, Group Mate Loss: 124.55229187011719\n",
            "Row Sum Loss: 1.5276477336883545, Col Sum Loss: 0.51180100440979, Conflict Loss: 0.0008014196646399796, Group Mate Loss: 125.44046020507812\n",
            "Row Sum Loss: 1.2345184087753296, Col Sum Loss: 0.8509934544563293, Conflict Loss: 0.0006672610761597753, Group Mate Loss: 125.44725799560547\n",
            "Row Sum Loss: 0.6226761937141418, Col Sum Loss: 0.6276038885116577, Conflict Loss: 0.0005454567144624889, Group Mate Loss: 125.6923828125\n",
            "Row Sum Loss: 0.7794957160949707, Col Sum Loss: 0.8498951196670532, Conflict Loss: 0.00042790817678906024, Group Mate Loss: 125.2420883178711\n",
            "Row Sum Loss: 1.0460995435714722, Col Sum Loss: 1.1042457818984985, Conflict Loss: 0.0003220608923584223, Group Mate Loss: 124.6036148071289\n",
            "Row Sum Loss: 1.106900930404663, Col Sum Loss: 1.1499873399734497, Conflict Loss: 0.00023177108960226178, Group Mate Loss: 124.09133911132812\n",
            "Row Sum Loss: 0.9647141695022583, Col Sum Loss: 0.9956480264663696, Conflict Loss: 0.0001603525161044672, Group Mate Loss: 123.9058837890625\n",
            "Row Sum Loss: 1.1304198503494263, Col Sum Loss: 1.1533762216567993, Conflict Loss: 0.00010895487503148615, Group Mate Loss: 123.32019805908203\n",
            "Row Sum Loss: 1.7308349609375, Col Sum Loss: 1.748844861984253, Conflict Loss: 7.3876632086467e-05, Group Mate Loss: 122.23832702636719\n",
            "Row Sum Loss: 1.519039273262024, Col Sum Loss: 1.5334208011627197, Conflict Loss: 5.239704478299245e-05, Group Mate Loss: 122.66182708740234\n",
            "Row Sum Loss: 1.1017236709594727, Col Sum Loss: 1.1132217645645142, Conflict Loss: 3.961926631745882e-05, Group Mate Loss: 123.38715362548828\n",
            "Row Sum Loss: 0.7985422015190125, Col Sum Loss: 0.8079963326454163, Conflict Loss: 3.108537202933803e-05, Group Mate Loss: 123.83946228027344\n",
            "Row Sum Loss: 0.7663459777832031, Col Sum Loss: 0.7743433713912964, Conflict Loss: 2.4490156647516415e-05, Group Mate Loss: 123.74703979492188\n",
            "Row Sum Loss: 1.0275603532791138, Col Sum Loss: 1.03424870967865, Conflict Loss: 1.9109742424916476e-05, Group Mate Loss: 122.98300170898438\n",
            "Row Sum Loss: 1.785705804824829, Col Sum Loss: 1.7909456491470337, Conflict Loss: 1.4796583855058998e-05, Group Mate Loss: 121.39962005615234\n",
            "Row Sum Loss: 2.5076725482940674, Col Sum Loss: 2.511430263519287, Conflict Loss: 1.1981208444922231e-05, Group Mate Loss: 120.13463592529297\n",
            "Row Sum Loss: 2.1402993202209473, Col Sum Loss: 2.1426987648010254, Conflict Loss: 1.040856477629859e-05, Group Mate Loss: 120.60569763183594\n"
          ]
        },
        {
          "output_type": "display_data",
          "data": {
            "text/plain": [
              "<Figure size 640x480 with 0 Axes>"
            ]
          },
          "metadata": {}
        },
        {
          "output_type": "stream",
          "name": "stdout",
          "text": [
            "Row Sum Loss: 20.13189697265625, Col Sum Loss: 20.83411979675293, Conflict Loss: 0.0030991663224995136, Group Mate Loss: 120.67762756347656\n",
            "Row Sum Loss: 7.422778129577637, Col Sum Loss: 10.451140403747559, Conflict Loss: 0.0018525089835748076, Group Mate Loss: 124.5396957397461\n",
            "Row Sum Loss: 1.382946252822876, Col Sum Loss: 2.4649531841278076, Conflict Loss: 0.0014137860853224993, Group Mate Loss: 131.1295928955078\n",
            "Row Sum Loss: 0.15126417577266693, Col Sum Loss: 0.13937294483184814, Conflict Loss: 0.0006895033875480294, Group Mate Loss: 128.91915893554688\n",
            "Row Sum Loss: 0.008708926849067211, Col Sum Loss: 0.018016431480646133, Conflict Loss: 0.0003934965352527797, Group Mate Loss: 128.16665649414062\n",
            "Row Sum Loss: 0.005518693942576647, Col Sum Loss: 0.013390712440013885, Conflict Loss: 0.00023324723588302732, Group Mate Loss: 127.82926940917969\n",
            "Row Sum Loss: 0.05571609362959862, Col Sum Loss: 0.06110244244337082, Conflict Loss: 0.00014511402696371078, Group Mate Loss: 127.47112274169922\n",
            "Row Sum Loss: 0.33467596769332886, Col Sum Loss: 0.3374428153038025, Conflict Loss: 9.565494838170707e-05, Group Mate Loss: 126.75926971435547\n",
            "Row Sum Loss: 0.8912017345428467, Col Sum Loss: 0.890303373336792, Conflict Loss: 5.9450583648867905e-05, Group Mate Loss: 125.92379760742188\n",
            "Row Sum Loss: 0.7550035715103149, Col Sum Loss: 0.752490758895874, Conflict Loss: 3.5288907383801416e-05, Group Mate Loss: 125.80162048339844\n",
            "Row Sum Loss: 0.9073818325996399, Col Sum Loss: 0.9052305221557617, Conflict Loss: 2.1663790903403424e-05, Group Mate Loss: 125.62197875976562\n",
            "Row Sum Loss: 0.791043758392334, Col Sum Loss: 0.7893906831741333, Conflict Loss: 1.4769515473744832e-05, Group Mate Loss: 125.87532806396484\n",
            "Row Sum Loss: 0.36591392755508423, Col Sum Loss: 0.3646239936351776, Conflict Loss: 1.1034277122234926e-05, Group Mate Loss: 126.45693969726562\n",
            "Row Sum Loss: 0.16038455069065094, Col Sum Loss: 0.15930309891700745, Conflict Loss: 8.535721462976653e-06, Group Mate Loss: 126.82478332519531\n",
            "Row Sum Loss: 0.1042068600654602, Col Sum Loss: 0.10321241617202759, Conflict Loss: 6.677297278656624e-06, Group Mate Loss: 126.91170501708984\n",
            "Row Sum Loss: 0.1313706338405609, Col Sum Loss: 0.13037307560443878, Conflict Loss: 5.2404925554583315e-06, Group Mate Loss: 126.74567413330078\n",
            "Row Sum Loss: 0.30355381965637207, Col Sum Loss: 0.30246248841285706, Conflict Loss: 4.106129836145556e-06, Group Mate Loss: 126.25521087646484\n",
            "Row Sum Loss: 0.7274336814880371, Col Sum Loss: 0.726137638092041, Conflict Loss: 3.221461611246923e-06, Group Mate Loss: 125.45771789550781\n",
            "Row Sum Loss: 0.7722086906433105, Col Sum Loss: 0.7705749273300171, Conflict Loss: 2.5972055937018013e-06, Group Mate Loss: 125.03670501708984\n",
            "Row Sum Loss: 0.7791150808334351, Col Sum Loss: 0.7769379615783691, Conflict Loss: 2.094256160489749e-06, Group Mate Loss: 124.51335144042969\n"
          ]
        },
        {
          "output_type": "display_data",
          "data": {
            "text/plain": [
              "<Figure size 640x480 with 0 Axes>"
            ]
          },
          "metadata": {}
        },
        {
          "output_type": "stream",
          "name": "stdout",
          "text": [
            "Row Sum Loss: 3.9157369136810303, Col Sum Loss: 3.9074385166168213, Conflict Loss: 1.0444608733450877e-06, Group Mate Loss: 120.62686157226562\n",
            "Row Sum Loss: 0.9196721911430359, Col Sum Loss: 0.9135849475860596, Conflict Loss: 1.1953246712437249e-06, Group Mate Loss: 123.83623504638672\n",
            "Row Sum Loss: 0.6172228455543518, Col Sum Loss: 0.6140275597572327, Conflict Loss: 1.2530314279501908e-06, Group Mate Loss: 124.62970733642578\n",
            "Row Sum Loss: 0.7072832584381104, Col Sum Loss: 0.7063096761703491, Conflict Loss: 1.1996625062238309e-06, Group Mate Loss: 124.43276977539062\n",
            "Row Sum Loss: 0.958178699016571, Col Sum Loss: 0.9595414996147156, Conflict Loss: 1.072714667316177e-06, Group Mate Loss: 123.7350845336914\n",
            "Row Sum Loss: 1.570936679840088, Col Sum Loss: 1.575103521347046, Conflict Loss: 9.233404512087873e-07, Group Mate Loss: 122.50340270996094\n",
            "Row Sum Loss: 1.797170639038086, Col Sum Loss: 1.8004916906356812, Conflict Loss: 8.422927066931152e-07, Group Mate Loss: 122.05247497558594\n",
            "Row Sum Loss: 1.3933091163635254, Col Sum Loss: 1.3939874172210693, Conflict Loss: 8.078915811893239e-07, Group Mate Loss: 122.590576171875\n",
            "Row Sum Loss: 1.209660291671753, Col Sum Loss: 1.20853853225708, Conflict Loss: 7.655960985175625e-07, Group Mate Loss: 122.98253631591797\n",
            "Row Sum Loss: 1.0794819593429565, Col Sum Loss: 1.0773389339447021, Conflict Loss: 7.171462357291603e-07, Group Mate Loss: 123.22766876220703\n",
            "Row Sum Loss: 26.86056900024414, Col Sum Loss: 26.860713958740234, Conflict Loss: 4.298229896448902e-07, Group Mate Loss: 110.7243881225586\n",
            "Row Sum Loss: 6.460854530334473, Col Sum Loss: 6.461856842041016, Conflict Loss: 1.0812026403073105e-06, Group Mate Loss: 121.58686065673828\n",
            "Row Sum Loss: 0.03493914380669594, Col Sum Loss: 0.03499637544155121, Conflict Loss: 1.7543586636747932e-06, Group Mate Loss: 127.27153015136719\n",
            "Row Sum Loss: 0.01300826109945774, Col Sum Loss: 0.012988602742552757, Conflict Loss: 2.3517209228884894e-06, Group Mate Loss: 127.61064910888672\n",
            "Row Sum Loss: 0.039276015013456345, Col Sum Loss: 0.039260949939489365, Conflict Loss: 2.9493298825400416e-06, Group Mate Loss: 127.50888061523438\n",
            "Row Sum Loss: 0.2063666135072708, Col Sum Loss: 0.20635543763637543, Conflict Loss: 3.4791166854120092e-06, Group Mate Loss: 127.06925201416016\n",
            "Row Sum Loss: 0.8662525415420532, Col Sum Loss: 0.8662417531013489, Conflict Loss: 3.950689460907597e-06, Group Mate Loss: 126.21015167236328\n",
            "Row Sum Loss: 0.289852112531662, Col Sum Loss: 0.28984126448631287, Conflict Loss: 4.9967688937613275e-06, Group Mate Loss: 126.90512084960938\n",
            "Row Sum Loss: 0.08426129817962646, Col Sum Loss: 0.08424916863441467, Conflict Loss: 6.137500804470619e-06, Group Mate Loss: 127.33194732666016\n",
            "Row Sum Loss: 0.04600439965724945, Col Sum Loss: 0.045989811420440674, Conflict Loss: 7.070170795486774e-06, Group Mate Loss: 127.44419860839844\n"
          ]
        },
        {
          "output_type": "display_data",
          "data": {
            "text/plain": [
              "<Figure size 640x480 with 0 Axes>"
            ]
          },
          "metadata": {}
        },
        {
          "output_type": "stream",
          "name": "stdout",
          "text": [
            "Row Sum Loss: 0.03102174401283264, Col Sum Loss: 0.03101876936852932, Conflict Loss: 2.450655983921024e-06, Group Mate Loss: 127.55296325683594\n",
            "Row Sum Loss: 0.12677229940891266, Col Sum Loss: 0.12676948308944702, Conflict Loss: 2.2638678274233826e-06, Group Mate Loss: 127.22604370117188\n",
            "Row Sum Loss: 0.6135316491127014, Col Sum Loss: 0.6135282516479492, Conflict Loss: 2.001288976316573e-06, Group Mate Loss: 126.44734954833984\n",
            "Row Sum Loss: 0.4390000104904175, Col Sum Loss: 0.43899640440940857, Conflict Loss: 1.8492999060981674e-06, Group Mate Loss: 126.65497589111328\n",
            "Row Sum Loss: 0.16843052208423615, Col Sum Loss: 0.1684270203113556, Conflict Loss: 1.7189634036185453e-06, Group Mate Loss: 127.0894775390625\n",
            "Row Sum Loss: 0.0802924856543541, Col Sum Loss: 0.08028912544250488, Conflict Loss: 1.5591767805744894e-06, Group Mate Loss: 127.27753448486328\n",
            "Row Sum Loss: 0.06466177105903625, Col Sum Loss: 0.06465814262628555, Conflict Loss: 1.3496226074494189e-06, Group Mate Loss: 127.25198364257812\n",
            "Row Sum Loss: 0.10223530232906342, Col Sum Loss: 0.10223131626844406, Conflict Loss: 1.120407091548259e-06, Group Mate Loss: 126.99639129638672\n",
            "Row Sum Loss: 0.3463411331176758, Col Sum Loss: 0.34633591771125793, Conflict Loss: 8.835722269395774e-07, Group Mate Loss: 126.26582336425781\n",
            "Row Sum Loss: 1.0444872379302979, Col Sum Loss: 1.0444802045822144, Conflict Loss: 6.69646681217273e-07, Group Mate Loss: 125.0831527709961\n",
            "Row Sum Loss: 0.6891446709632874, Col Sum Loss: 0.6891340613365173, Conflict Loss: 5.448488877846103e-07, Group Mate Loss: 125.26524353027344\n",
            "Row Sum Loss: 0.9743645787239075, Col Sum Loss: 0.9743523001670837, Conflict Loss: 4.395618589114747e-07, Group Mate Loss: 124.94386291503906\n",
            "Row Sum Loss: 0.6845793128013611, Col Sum Loss: 0.6845740079879761, Conflict Loss: 3.9404034168910584e-07, Group Mate Loss: 125.38577270507812\n",
            "Row Sum Loss: 0.45509225130081177, Col Sum Loss: 0.4550946354866028, Conflict Loss: 3.5409598808655574e-07, Group Mate Loss: 125.77659606933594\n",
            "Row Sum Loss: 0.5113626718521118, Col Sum Loss: 0.5113730430603027, Conflict Loss: 3.009922409091814e-07, Group Mate Loss: 125.70134735107422\n",
            "Row Sum Loss: 0.7738965749740601, Col Sum Loss: 0.7739124298095703, Conflict Loss: 2.530990741433925e-07, Group Mate Loss: 125.38400268554688\n",
            "Row Sum Loss: 0.5579026341438293, Col Sum Loss: 0.5579133033752441, Conflict Loss: 2.418506994672498e-07, Group Mate Loss: 125.69925689697266\n",
            "Row Sum Loss: 0.4023168683052063, Col Sum Loss: 0.40232154726982117, Conflict Loss: 2.352762322743729e-07, Group Mate Loss: 125.96248626708984\n",
            "Row Sum Loss: 0.4118543267250061, Col Sum Loss: 0.41185593605041504, Conflict Loss: 2.1665329086317797e-07, Group Mate Loss: 125.92819213867188\n",
            "Row Sum Loss: 0.5013798475265503, Col Sum Loss: 0.5013799071311951, Conflict Loss: 1.8656923828075378e-07, Group Mate Loss: 125.67521667480469\n"
          ]
        },
        {
          "output_type": "display_data",
          "data": {
            "text/plain": [
              "<Figure size 640x480 with 0 Axes>"
            ]
          },
          "metadata": {}
        },
        {
          "output_type": "stream",
          "name": "stdout",
          "text": [
            "Row Sum Loss: 3.586637496948242, Col Sum Loss: 3.5866191387176514, Conflict Loss: 8.626774956610461e-07, Group Mate Loss: 121.72306823730469\n",
            "Row Sum Loss: 0.31697747111320496, Col Sum Loss: 0.31696009635925293, Conflict Loss: 9.102492413148866e-07, Group Mate Loss: 125.74476623535156\n",
            "Row Sum Loss: 0.2046048790216446, Col Sum Loss: 0.20458577573299408, Conflict Loss: 8.34313425457367e-07, Group Mate Loss: 126.35442352294922\n",
            "Row Sum Loss: 0.3695656657218933, Col Sum Loss: 0.3695434033870697, Conflict Loss: 6.737006401635881e-07, Group Mate Loss: 125.96881866455078\n",
            "Row Sum Loss: 0.9016844630241394, Col Sum Loss: 0.9016594886779785, Conflict Loss: 4.806323090633668e-07, Group Mate Loss: 124.8855209350586\n",
            "Row Sum Loss: 1.3125531673431396, Col Sum Loss: 1.3125293254852295, Conflict Loss: 3.672747652672115e-07, Group Mate Loss: 124.23639678955078\n",
            "Row Sum Loss: 0.6810662746429443, Col Sum Loss: 0.6810479164123535, Conflict Loss: 3.516287279126118e-07, Group Mate Loss: 125.21003723144531\n",
            "Row Sum Loss: 0.3525651693344116, Col Sum Loss: 0.35255178809165955, Conflict Loss: 3.2600382837699726e-07, Group Mate Loss: 125.83889770507812\n",
            "Row Sum Loss: 0.31262868642807007, Col Sum Loss: 0.3126176595687866, Conflict Loss: 2.6661783181225474e-07, Group Mate Loss: 125.79952239990234\n",
            "Row Sum Loss: 0.5705356001853943, Col Sum Loss: 0.5705248117446899, Conflict Loss: 1.915414742370558e-07, Group Mate Loss: 124.95649719238281\n",
            "Row Sum Loss: 1.6972088813781738, Col Sum Loss: 1.6971970796585083, Conflict Loss: 1.2544468575015344e-07, Group Mate Loss: 122.94601440429688\n",
            "Row Sum Loss: 1.1932528018951416, Col Sum Loss: 1.193244457244873, Conflict Loss: 1.0224523094848337e-07, Group Mate Loss: 123.33897399902344\n",
            "Row Sum Loss: 1.0921123027801514, Col Sum Loss: 1.0921043157577515, Conflict Loss: 8.486352243153306e-08, Group Mate Loss: 123.51133728027344\n",
            "Row Sum Loss: 1.0832186937332153, Col Sum Loss: 1.0832083225250244, Conflict Loss: 7.115673383850663e-08, Group Mate Loss: 123.3865737915039\n",
            "Row Sum Loss: 1.5562690496444702, Col Sum Loss: 1.5562528371810913, Conflict Loss: 5.824272619747717e-08, Group Mate Loss: 122.58816528320312\n",
            "Row Sum Loss: 1.3689500093460083, Col Sum Loss: 1.3689393997192383, Conflict Loss: 5.402720404390493e-08, Group Mate Loss: 122.86447143554688\n",
            "Row Sum Loss: 1.1744589805603027, Col Sum Loss: 1.1744515895843506, Conflict Loss: 5.301917838096415e-08, Group Mate Loss: 123.31573486328125\n",
            "Row Sum Loss: 0.9747639298439026, Col Sum Loss: 0.9747583270072937, Conflict Loss: 5.254957002875926e-08, Group Mate Loss: 123.67959594726562\n",
            "Row Sum Loss: 1.0469434261322021, Col Sum Loss: 1.046938419342041, Conflict Loss: 4.872837777725181e-08, Group Mate Loss: 123.59895324707031\n",
            "Row Sum Loss: 1.0562317371368408, Col Sum Loss: 1.056227207183838, Conflict Loss: 4.304071055116765e-08, Group Mate Loss: 123.50435638427734\n"
          ]
        },
        {
          "output_type": "display_data",
          "data": {
            "text/plain": [
              "<Figure size 640x480 with 0 Axes>"
            ]
          },
          "metadata": {}
        },
        {
          "output_type": "stream",
          "name": "stdout",
          "text": [
            "Row Sum Loss: 0.18727898597717285, Col Sum Loss: 0.18550080060958862, Conflict Loss: 1.5220321358810907e-07, Group Mate Loss: 126.68888092041016\n",
            "Row Sum Loss: 0.5702041387557983, Col Sum Loss: 0.5672340393066406, Conflict Loss: 9.884973195539715e-08, Group Mate Loss: 125.85812377929688\n",
            "Row Sum Loss: 0.5506098866462708, Col Sum Loss: 0.5492405891418457, Conflict Loss: 7.772820964646598e-08, Group Mate Loss: 125.6617202758789\n",
            "Row Sum Loss: 0.7105105519294739, Col Sum Loss: 0.7098675966262817, Conflict Loss: 5.954147752618155e-08, Group Mate Loss: 125.2154312133789\n",
            "Row Sum Loss: 0.9687184691429138, Col Sum Loss: 0.968267023563385, Conflict Loss: 4.5642426726999474e-08, Group Mate Loss: 124.57844543457031\n",
            "Row Sum Loss: 1.2283236980438232, Col Sum Loss: 1.2279492616653442, Conflict Loss: 4.1514088167105e-08, Group Mate Loss: 124.20539855957031\n",
            "Row Sum Loss: 0.6044345498085022, Col Sum Loss: 0.6041358709335327, Conflict Loss: 4.96244219050368e-08, Group Mate Loss: 125.2697982788086\n",
            "Row Sum Loss: 0.415490984916687, Col Sum Loss: 0.4152384102344513, Conflict Loss: 5.2992440657817497e-08, Group Mate Loss: 125.71720886230469\n",
            "Row Sum Loss: 0.5272185206413269, Col Sum Loss: 0.526986837387085, Conflict Loss: 4.778367213020829e-08, Group Mate Loss: 125.48297882080078\n",
            "Row Sum Loss: 0.8896602392196655, Col Sum Loss: 0.8894538879394531, Conflict Loss: 3.92743508825788e-08, Group Mate Loss: 124.81878662109375\n",
            "Row Sum Loss: 0.9009441137313843, Col Sum Loss: 0.9008001089096069, Conflict Loss: 3.641372003926335e-08, Group Mate Loss: 124.77169799804688\n",
            "Row Sum Loss: 0.6102898716926575, Col Sum Loss: 0.610200047492981, Conflict Loss: 3.728463582319819e-08, Group Mate Loss: 125.25033569335938\n",
            "Row Sum Loss: 0.544069230556488, Col Sum Loss: 0.5440096855163574, Conflict Loss: 3.5129609443629306e-08, Group Mate Loss: 125.34525299072266\n",
            "Row Sum Loss: 0.728268563747406, Col Sum Loss: 0.7282252311706543, Conflict Loss: 2.9406372448192997e-08, Group Mate Loss: 124.93531799316406\n",
            "Row Sum Loss: 1.0586459636688232, Col Sum Loss: 1.0586121082305908, Conflict Loss: 2.4196184611469107e-08, Group Mate Loss: 124.35888671875\n",
            "Row Sum Loss: 0.9243262410163879, Col Sum Loss: 0.924296498298645, Conflict Loss: 2.3753639055712483e-08, Group Mate Loss: 124.51318359375\n",
            "Row Sum Loss: 0.7835256457328796, Col Sum Loss: 0.7834975719451904, Conflict Loss: 2.47683118459463e-08, Group Mate Loss: 124.76826477050781\n",
            "Row Sum Loss: 0.7559198141098022, Col Sum Loss: 0.7558924555778503, Conflict Loss: 2.494572193256772e-08, Group Mate Loss: 124.84502410888672\n",
            "Row Sum Loss: 0.7392963767051697, Col Sum Loss: 0.7392704486846924, Conflict Loss: 2.4131473708166595e-08, Group Mate Loss: 124.83653259277344\n",
            "Row Sum Loss: 0.7842066287994385, Col Sum Loss: 0.784184455871582, Conflict Loss: 2.235770679703819e-08, Group Mate Loss: 124.68553161621094\n"
          ]
        },
        {
          "output_type": "display_data",
          "data": {
            "text/plain": [
              "<Figure size 640x480 with 0 Axes>"
            ]
          },
          "metadata": {}
        },
        {
          "output_type": "stream",
          "name": "stdout",
          "text": [
            "Row Sum Loss: 0.9076565504074097, Col Sum Loss: 0.9076440334320068, Conflict Loss: 2.032340695734547e-08, Group Mate Loss: 124.47626495361328\n",
            "Row Sum Loss: 0.7271500825881958, Col Sum Loss: 0.7271392345428467, Conflict Loss: 1.8942584389947115e-08, Group Mate Loss: 124.61885070800781\n",
            "Row Sum Loss: 0.920150876045227, Col Sum Loss: 0.9201409816741943, Conflict Loss: 1.559477880164195e-08, Group Mate Loss: 124.08647918701172\n",
            "Row Sum Loss: 1.5529788732528687, Col Sum Loss: 1.5529686212539673, Conflict Loss: 1.225629375767312e-08, Group Mate Loss: 122.93672180175781\n",
            "Row Sum Loss: 1.1507041454315186, Col Sum Loss: 1.1506950855255127, Conflict Loss: 1.3333765203071835e-08, Group Mate Loss: 123.54251861572266\n",
            "Row Sum Loss: 0.7305799722671509, Col Sum Loss: 0.7305728197097778, Conflict Loss: 1.4670283654538707e-08, Group Mate Loss: 124.24740600585938\n",
            "Row Sum Loss: 0.840173602104187, Col Sum Loss: 0.8401668071746826, Conflict Loss: 1.2653293524067522e-08, Group Mate Loss: 123.82135009765625\n",
            "Row Sum Loss: 1.6387417316436768, Col Sum Loss: 1.6387345790863037, Conflict Loss: 8.835399967210833e-09, Group Mate Loss: 122.06513214111328\n",
            "Row Sum Loss: 2.2935972213745117, Col Sum Loss: 2.2935895919799805, Conflict Loss: 6.766564197846492e-09, Group Mate Loss: 120.79068756103516\n",
            "Row Sum Loss: 1.5533082485198975, Col Sum Loss: 1.5533007383346558, Conflict Loss: 7.407304991602359e-09, Group Mate Loss: 121.94172668457031\n",
            "Row Sum Loss: 1.0278494358062744, Col Sum Loss: 1.0278425216674805, Conflict Loss: 8.968909170903316e-09, Group Mate Loss: 123.00977325439453\n",
            "Row Sum Loss: 1.3392667770385742, Col Sum Loss: 1.3392598628997803, Conflict Loss: 8.802940598684472e-09, Group Mate Loss: 122.50688171386719\n",
            "Row Sum Loss: 1.5859001874923706, Col Sum Loss: 1.5858937501907349, Conflict Loss: 8.860605582583503e-09, Group Mate Loss: 122.1754150390625\n",
            "Row Sum Loss: 1.0260807275772095, Col Sum Loss: 1.026074767112732, Conflict Loss: 1.0750889956057108e-08, Group Mate Loss: 123.16630554199219\n",
            "Row Sum Loss: 1.0950117111206055, Col Sum Loss: 1.0950053930282593, Conflict Loss: 1.0679096718035908e-08, Group Mate Loss: 122.96558380126953\n",
            "Row Sum Loss: 1.7068872451782227, Col Sum Loss: 1.706879734992981, Conflict Loss: 8.981915655681405e-09, Group Mate Loss: 121.68516540527344\n",
            "Row Sum Loss: 1.9933677911758423, Col Sum Loss: 1.9933600425720215, Conflict Loss: 8.658835426444966e-09, Group Mate Loss: 121.1181869506836\n",
            "Row Sum Loss: 1.2952823638916016, Col Sum Loss: 1.2952756881713867, Conflict Loss: 1.0681156403791192e-08, Group Mate Loss: 122.34928894042969\n",
            "Row Sum Loss: 1.1201246976852417, Col Sum Loss: 1.1201188564300537, Conflict Loss: 1.1514164732773224e-08, Group Mate Loss: 122.6869888305664\n",
            "Row Sum Loss: 1.6023588180541992, Col Sum Loss: 1.6023528575897217, Conflict Loss: 1.0077579659650837e-08, Group Mate Loss: 121.73809051513672\n"
          ]
        },
        {
          "output_type": "display_data",
          "data": {
            "text/plain": [
              "<Figure size 640x480 with 0 Axes>"
            ]
          },
          "metadata": {}
        },
        {
          "output_type": "stream",
          "name": "stdout",
          "text": [
            "Row Sum Loss: 2.238558292388916, Col Sum Loss: 2.238553524017334, Conflict Loss: 9.516817556232127e-09, Group Mate Loss: 121.47004699707031\n",
            "Row Sum Loss: 0.7310454845428467, Col Sum Loss: 0.7310423254966736, Conflict Loss: 1.4574739637396306e-08, Group Mate Loss: 123.97899627685547\n",
            "Row Sum Loss: 0.8416825532913208, Col Sum Loss: 0.8416798710823059, Conflict Loss: 1.6261948232454415e-08, Group Mate Loss: 123.88926696777344\n",
            "Row Sum Loss: 1.4882941246032715, Col Sum Loss: 1.4882912635803223, Conflict Loss: 1.4239472712063161e-08, Group Mate Loss: 122.7286605834961\n",
            "Row Sum Loss: 1.4567662477493286, Col Sum Loss: 1.456762433052063, Conflict Loss: 1.2881552713395195e-08, Group Mate Loss: 122.71945190429688\n",
            "Row Sum Loss: 1.0573632717132568, Col Sum Loss: 1.0573599338531494, Conflict Loss: 1.3045886149143371e-08, Group Mate Loss: 123.51408386230469\n",
            "Row Sum Loss: 0.794619083404541, Col Sum Loss: 0.7946160435676575, Conflict Loss: 1.3223997008537935e-08, Group Mate Loss: 123.98387145996094\n",
            "Row Sum Loss: 0.9431183934211731, Col Sum Loss: 0.9431156516075134, Conflict Loss: 1.1436020130872748e-08, Group Mate Loss: 123.48223876953125\n",
            "Row Sum Loss: 1.6993494033813477, Col Sum Loss: 1.6993464231491089, Conflict Loss: 8.569294607241318e-09, Group Mate Loss: 121.78076934814453\n",
            "Row Sum Loss: 2.4623587131500244, Col Sum Loss: 2.462355613708496, Conflict Loss: 7.313790018059763e-09, Group Mate Loss: 120.37261962890625\n",
            "Row Sum Loss: 12.76506519317627, Col Sum Loss: 12.765064239501953, Conflict Loss: 1.0889404933323021e-08, Group Mate Loss: 113.79679107666016\n",
            "Row Sum Loss: 0.11436106264591217, Col Sum Loss: 0.11435803771018982, Conflict Loss: 1.0145083706447622e-07, Group Mate Loss: 126.67449951171875\n",
            "Row Sum Loss: 0.06546273082494736, Col Sum Loss: 0.06543535739183426, Conflict Loss: 6.366955176417832e-07, Group Mate Loss: 127.3702621459961\n",
            "Row Sum Loss: 0.06885287910699844, Col Sum Loss: 0.06872180849313736, Conflict Loss: 2.4813248273858335e-06, Group Mate Loss: 127.44136810302734\n",
            "Row Sum Loss: 0.10311330854892731, Col Sum Loss: 0.10265833884477615, Conflict Loss: 6.626998583669774e-06, Group Mate Loss: 127.36917114257812\n",
            "Row Sum Loss: 0.20640555024147034, Col Sum Loss: 0.20518112182617188, Conflict Loss: 1.3880175174563192e-05, Group Mate Loss: 127.15010833740234\n",
            "Row Sum Loss: 0.3726549446582794, Col Sum Loss: 0.3700866103172302, Conflict Loss: 2.5886911316774786e-05, Group Mate Loss: 126.88550567626953\n",
            "Row Sum Loss: 0.3974989354610443, Col Sum Loss: 0.3937893509864807, Conflict Loss: 4.408308450365439e-05, Group Mate Loss: 126.86344909667969\n",
            "Row Sum Loss: 0.24802066385746002, Col Sum Loss: 0.24428531527519226, Conflict Loss: 6.677785131614655e-05, Group Mate Loss: 127.11334991455078\n",
            "Row Sum Loss: 0.1437077820301056, Col Sum Loss: 0.14041678607463837, Conflict Loss: 9.298324584960938e-05, Group Mate Loss: 127.33708190917969\n"
          ]
        },
        {
          "output_type": "display_data",
          "data": {
            "text/plain": [
              "<Figure size 640x480 with 0 Axes>"
            ]
          },
          "metadata": {}
        },
        {
          "output_type": "stream",
          "name": "stdout",
          "text": [
            "Row Sum Loss: 0.08470014482736588, Col Sum Loss: 0.08472101390361786, Conflict Loss: 1.188575311061868e-06, Group Mate Loss: 127.46404266357422\n",
            "Row Sum Loss: 0.11895965784788132, Col Sum Loss: 0.11897877603769302, Conflict Loss: 1.510985498498485e-06, Group Mate Loss: 127.36824035644531\n",
            "Row Sum Loss: 0.21482281386852264, Col Sum Loss: 0.21484118700027466, Conflict Loss: 1.947991904671653e-06, Group Mate Loss: 127.1544189453125\n",
            "Row Sum Loss: 0.34253332018852234, Col Sum Loss: 0.3425508439540863, Conflict Loss: 2.3887782845122274e-06, Group Mate Loss: 126.93419647216797\n",
            "Row Sum Loss: 0.23286370933055878, Col Sum Loss: 0.23287825286388397, Conflict Loss: 2.436835075059207e-06, Group Mate Loss: 127.11902618408203\n",
            "Row Sum Loss: 0.14506793022155762, Col Sum Loss: 0.14507965743541718, Conflict Loss: 2.4573780592618277e-06, Group Mate Loss: 127.30206298828125\n",
            "Row Sum Loss: 0.11952164769172668, Col Sum Loss: 0.11953169107437134, Conflict Loss: 2.4972950996016152e-06, Group Mate Loss: 127.36439514160156\n",
            "Row Sum Loss: 0.13593748211860657, Col Sum Loss: 0.13594651222229004, Conflict Loss: 2.5076622023334494e-06, Group Mate Loss: 127.32040405273438\n",
            "Row Sum Loss: 0.19559374451637268, Col Sum Loss: 0.1956023871898651, Conflict Loss: 2.4494522676832275e-06, Group Mate Loss: 127.18295288085938\n",
            "Row Sum Loss: 0.28414809703826904, Col Sum Loss: 0.2841561436653137, Conflict Loss: 2.3346008219959913e-06, Group Mate Loss: 127.0116958618164\n",
            "Row Sum Loss: 0.2895631194114685, Col Sum Loss: 0.2895699739456177, Conflict Loss: 2.2224121494218707e-06, Group Mate Loss: 126.99435424804688\n",
            "Row Sum Loss: 0.21502284705638885, Col Sum Loss: 0.2150280922651291, Conflict Loss: 2.152248498532572e-06, Group Mate Loss: 127.12077331542969\n",
            "Row Sum Loss: 0.16461530327796936, Col Sum Loss: 0.16461899876594543, Conflict Loss: 2.0725594822579296e-06, Group Mate Loss: 127.21363830566406\n",
            "Row Sum Loss: 0.158299058675766, Col Sum Loss: 0.158301442861557, Conflict Loss: 1.9218259694753215e-06, Group Mate Loss: 127.20419311523438\n",
            "Row Sum Loss: 0.196349635720253, Col Sum Loss: 0.19635067880153656, Conflict Loss: 1.6822333464006078e-06, Group Mate Loss: 127.07123565673828\n",
            "Row Sum Loss: 0.29113250970840454, Col Sum Loss: 0.2911328673362732, Conflict Loss: 1.388190526085964e-06, Group Mate Loss: 126.78168487548828\n",
            "Row Sum Loss: 0.47635361552238464, Col Sum Loss: 0.4763515591621399, Conflict Loss: 1.1058158406740404e-06, Group Mate Loss: 126.27792358398438\n",
            "Row Sum Loss: 0.9592587351799011, Col Sum Loss: 0.9592552185058594, Conflict Loss: 9.17181750992313e-07, Group Mate Loss: 125.5783462524414\n",
            "Row Sum Loss: 0.25873783230781555, Col Sum Loss: 0.25873544812202454, Conflict Loss: 1.069729364644445e-06, Group Mate Loss: 126.72240447998047\n",
            "Row Sum Loss: 0.09898539632558823, Col Sum Loss: 0.09898403286933899, Conflict Loss: 1.1493781357785338e-06, Group Mate Loss: 127.1962661743164\n"
          ]
        },
        {
          "output_type": "display_data",
          "data": {
            "text/plain": [
              "<Figure size 640x480 with 0 Axes>"
            ]
          },
          "metadata": {}
        },
        {
          "output_type": "stream",
          "name": "stdout",
          "text": [
            "Row Sum Loss: 0.06878701597452164, Col Sum Loss: 0.06878593564033508, Conflict Loss: 1.0774650718303747e-06, Group Mate Loss: 127.32685852050781\n",
            "Row Sum Loss: 0.07914596050977707, Col Sum Loss: 0.07914524525403976, Conflict Loss: 8.852977657625161e-07, Group Mate Loss: 127.27923583984375\n",
            "Row Sum Loss: 0.13994143903255463, Col Sum Loss: 0.13994058966636658, Conflict Loss: 6.393798344106472e-07, Group Mate Loss: 127.04464721679688\n",
            "Row Sum Loss: 0.3460123836994171, Col Sum Loss: 0.3460112512111664, Conflict Loss: 4.1044097542908275e-07, Group Mate Loss: 126.4972152709961\n",
            "Row Sum Loss: 0.8284875154495239, Col Sum Loss: 0.8284857869148254, Conflict Loss: 2.5943023729269044e-07, Group Mate Loss: 125.64566802978516\n",
            "Row Sum Loss: 0.7542635202407837, Col Sum Loss: 0.7542619705200195, Conflict Loss: 2.310289630713669e-07, Group Mate Loss: 125.70783996582031\n",
            "Row Sum Loss: 0.3671565651893616, Col Sum Loss: 0.3671552240848541, Conflict Loss: 2.5992309815592307e-07, Group Mate Loss: 126.36494445800781\n",
            "Row Sum Loss: 0.21749001741409302, Col Sum Loss: 0.21748876571655273, Conflict Loss: 2.710403634864633e-07, Group Mate Loss: 126.69029998779297\n",
            "Row Sum Loss: 0.21112754940986633, Col Sum Loss: 0.2111264169216156, Conflict Loss: 2.3766310164319293e-07, Group Mate Loss: 126.62779235839844\n",
            "Row Sum Loss: 0.38411378860473633, Col Sum Loss: 0.3841123580932617, Conflict Loss: 1.7103215554925555e-07, Group Mate Loss: 126.0210952758789\n",
            "Row Sum Loss: 1.4087064266204834, Col Sum Loss: 1.4087047576904297, Conflict Loss: 1.0565815955487778e-07, Group Mate Loss: 124.247802734375\n",
            "Row Sum Loss: 0.43175482749938965, Col Sum Loss: 0.4317532181739807, Conflict Loss: 1.3008907728817576e-07, Group Mate Loss: 125.72332763671875\n",
            "Row Sum Loss: 0.34669551253318787, Col Sum Loss: 0.34669363498687744, Conflict Loss: 1.3267208487377502e-07, Group Mate Loss: 125.97649383544922\n",
            "Row Sum Loss: 0.6070964932441711, Col Sum Loss: 0.6070935726165771, Conflict Loss: 1.1008339839690962e-07, Group Mate Loss: 125.40901184082031\n",
            "Row Sum Loss: 1.322710394859314, Col Sum Loss: 1.3227063417434692, Conflict Loss: 8.709073995305516e-08, Group Mate Loss: 124.34520721435547\n",
            "Row Sum Loss: 0.5526328086853027, Col Sum Loss: 0.5526299476623535, Conflict Loss: 1.0351375578920852e-07, Group Mate Loss: 125.52175903320312\n",
            "Row Sum Loss: 0.33041760325431824, Col Sum Loss: 0.3304154872894287, Conflict Loss: 1.1139718480990268e-07, Group Mate Loss: 126.02838897705078\n",
            "Row Sum Loss: 0.38553279638290405, Col Sum Loss: 0.385530948638916, Conflict Loss: 9.800484690458688e-08, Group Mate Loss: 125.8662338256836\n",
            "Row Sum Loss: 0.7478524446487427, Col Sum Loss: 0.7478505969047546, Conflict Loss: 7.270993762631406e-08, Group Mate Loss: 125.06620025634766\n",
            "Row Sum Loss: 1.2498023509979248, Col Sum Loss: 1.249800682067871, Conflict Loss: 5.47179936916109e-08, Group Mate Loss: 124.13427734375\n"
          ]
        },
        {
          "output_type": "display_data",
          "data": {
            "text/plain": [
              "<Figure size 640x480 with 0 Axes>"
            ]
          },
          "metadata": {}
        },
        {
          "output_type": "stream",
          "name": "stdout",
          "text": [
            "Row Sum Loss: 8.965475082397461, Col Sum Loss: 8.965503692626953, Conflict Loss: 1.1730190152547948e-07, Group Mate Loss: 118.49732971191406\n",
            "Row Sum Loss: 0.04226754605770111, Col Sum Loss: 0.04226680472493172, Conflict Loss: 6.230021085684712e-07, Group Mate Loss: 127.278564453125\n",
            "Row Sum Loss: 0.002180962124839425, Col Sum Loss: 0.002175436820834875, Conflict Loss: 2.2299750526144635e-06, Group Mate Loss: 127.86160278320312\n",
            "Row Sum Loss: 0.00023922516265884042, Col Sum Loss: 0.0002348094858461991, Conflict Loss: 6.8823728724964894e-06, Group Mate Loss: 127.96171569824219\n",
            "Row Sum Loss: 3.799932528636418e-05, Col Sum Loss: 3.573712092475034e-05, Conflict Loss: 1.836591400206089e-05, Group Mate Loss: 127.99639892578125\n",
            "Row Sum Loss: 3.988920070696622e-05, Col Sum Loss: 4.0487615478923544e-05, Conflict Loss: 3.48565008607693e-05, Group Mate Loss: 128.01910400390625\n",
            "Row Sum Loss: 0.00013483357906807214, Col Sum Loss: 0.00015832704957574606, Conflict Loss: 5.910720938118175e-05, Group Mate Loss: 128.04664611816406\n",
            "Row Sum Loss: 0.00040204275865107775, Col Sum Loss: 0.0004926293040625751, Conflict Loss: 9.206607501255348e-05, Group Mate Loss: 128.08074951171875\n",
            "Row Sum Loss: 0.0008726542582735419, Col Sum Loss: 0.0010228282772004604, Conflict Loss: 0.0001263044832739979, Group Mate Loss: 128.1136016845703\n",
            "Row Sum Loss: 0.0012200858909636736, Col Sum Loss: 0.0013312848750501871, Conflict Loss: 0.00014934381761122495, Group Mate Loss: 128.13137817382812\n",
            "Row Sum Loss: 0.0011034735944122076, Col Sum Loss: 0.0011274669086560607, Conflict Loss: 0.00015662102669011801, Group Mate Loss: 128.1272430419922\n",
            "Row Sum Loss: 0.0007720678113400936, Col Sum Loss: 0.0007502458174712956, Conflict Loss: 0.00015045453619677573, Group Mate Loss: 128.1087188720703\n",
            "Row Sum Loss: 0.0004998609074391425, Col Sum Loss: 0.00047469150740653276, Conflict Loss: 0.00013457061140798032, Group Mate Loss: 128.08673095703125\n",
            "Row Sum Loss: 0.00031199975637719035, Col Sum Loss: 0.00029728515073657036, Conflict Loss: 0.00011357267067069188, Group Mate Loss: 128.066650390625\n",
            "Row Sum Loss: 0.00018555788847152144, Col Sum Loss: 0.0001801186299417168, Conflict Loss: 9.177536412607878e-05, Group Mate Loss: 128.0500030517578\n",
            "Row Sum Loss: 0.00010577324428595603, Col Sum Loss: 0.0001054586173268035, Conflict Loss: 7.206959708128124e-05, Group Mate Loss: 128.0369110107422\n",
            "Row Sum Loss: 5.895981303183362e-05, Col Sum Loss: 6.062088141334243e-05, Conflict Loss: 5.570130451815203e-05, Group Mate Loss: 128.0270233154297\n",
            "Row Sum Loss: 3.2781252230051905e-05, Col Sum Loss: 3.479106453596614e-05, Conflict Loss: 4.2787534766830504e-05, Group Mate Loss: 128.01976013183594\n",
            "Row Sum Loss: 1.8447441107127815e-05, Col Sum Loss: 2.0185929315630347e-05, Conflict Loss: 3.289433880127035e-05, Group Mate Loss: 128.01446533203125\n",
            "Row Sum Loss: 1.0627829396980815e-05, Col Sum Loss: 1.195411186927231e-05, Conflict Loss: 2.542777656344697e-05, Group Mate Loss: 128.01063537597656\n"
          ]
        },
        {
          "output_type": "display_data",
          "data": {
            "text/plain": [
              "<Figure size 640x480 with 0 Axes>"
            ]
          },
          "metadata": {}
        },
        {
          "output_type": "stream",
          "name": "stdout",
          "text": [
            "Row Sum Loss: 6.078799685838021e-08, Col Sum Loss: 5.5056901260286395e-08, Conflict Loss: 1.161852878794889e-06, Group Mate Loss: 128.00009155273438\n",
            "Row Sum Loss: 5.0680384333645634e-08, Col Sum Loss: 4.72397232442745e-08, Conflict Loss: 8.835830840325798e-07, Group Mate Loss: 127.99996185302734\n",
            "Row Sum Loss: 4.578467382998497e-08, Col Sum Loss: 4.386080831864092e-08, Conflict Loss: 6.7504180378819e-07, Group Mate Loss: 127.99984741210938\n",
            "Row Sum Loss: 4.444828505256737e-08, Col Sum Loss: 4.331852210270881e-08, Conflict Loss: 5.196887968850206e-07, Group Mate Loss: 127.99974822998047\n",
            "Row Sum Loss: 4.573230683035945e-08, Col Sum Loss: 4.486274463033624e-08, Conflict Loss: 4.036684515540401e-07, Group Mate Loss: 127.99964904785156\n",
            "Row Sum Loss: 4.954486598762742e-08, Col Sum Loss: 4.8739963176558376e-08, Conflict Loss: 3.165504267599317e-07, Group Mate Loss: 127.99957275390625\n",
            "Row Sum Loss: 5.607738273738505e-08, Col Sum Loss: 5.554248616590485e-08, Conflict Loss: 2.5059159725060454e-07, Group Mate Loss: 127.99949645996094\n",
            "Row Sum Loss: 6.626748927374138e-08, Col Sum Loss: 6.565002763636585e-08, Conflict Loss: 2.0023033187044348e-07, Group Mate Loss: 127.9994125366211\n",
            "Row Sum Loss: 8.238771442847792e-08, Col Sum Loss: 8.184159128177271e-08, Conflict Loss: 1.6147988901593635e-07, Group Mate Loss: 127.99928283691406\n",
            "Row Sum Loss: 1.0797485572311416e-07, Col Sum Loss: 1.0746248335635755e-07, Conflict Loss: 1.3143446153662808e-07, Group Mate Loss: 127.99913024902344\n",
            "Row Sum Loss: 1.5086776272710267e-07, Col Sum Loss: 1.5026536459572526e-07, Conflict Loss: 1.0795645977168533e-07, Group Mate Loss: 127.9989242553711\n",
            "Row Sum Loss: 2.2551930101144535e-07, Col Sum Loss: 2.2482502970433416e-07, Conflict Loss: 8.94282905505861e-08, Group Mate Loss: 127.99864959716797\n",
            "Row Sum Loss: 3.629936031757097e-07, Col Sum Loss: 3.620365305323503e-07, Conflict Loss: 7.467755125389886e-08, Group Mate Loss: 127.9982681274414\n",
            "Row Sum Loss: 6.312718028311792e-07, Col Sum Loss: 6.303355348791229e-07, Conflict Loss: 6.284095377395715e-08, Group Mate Loss: 127.99774169921875\n",
            "Row Sum Loss: 1.1855707953145611e-06, Col Sum Loss: 1.1847821497212863e-06, Conflict Loss: 5.3259572752040185e-08, Group Mate Loss: 127.9969711303711\n",
            "Row Sum Loss: 2.407837655482581e-06, Col Sum Loss: 2.406964085821528e-06, Conflict Loss: 4.5482575927735525e-08, Group Mate Loss: 127.9958267211914\n",
            "Row Sum Loss: 5.296609742799774e-06, Col Sum Loss: 5.295325991028221e-06, Conflict Loss: 3.9153587039209015e-08, Group Mate Loss: 127.99407958984375\n",
            "Row Sum Loss: 1.2621313544514123e-05, Col Sum Loss: 1.2619366316357628e-05, Conflict Loss: 3.396844761027751e-08, Group Mate Loss: 127.99129486083984\n",
            "Row Sum Loss: 3.273141919635236e-05, Col Sum Loss: 3.2728352380217984e-05, Conflict Loss: 2.9665001122225476e-08, Group Mate Loss: 127.98670959472656\n",
            "Row Sum Loss: 9.324782877229154e-05, Col Sum Loss: 9.324274287791923e-05, Conflict Loss: 2.598041248802474e-08, Group Mate Loss: 127.97868347167969\n"
          ]
        },
        {
          "output_type": "display_data",
          "data": {
            "text/plain": [
              "<Figure size 640x480 with 0 Axes>"
            ]
          },
          "metadata": {}
        },
        {
          "output_type": "stream",
          "name": "stdout",
          "text": [
            "Row Sum Loss: 0.00029565198929049075, Col Sum Loss: 0.00029564305441454053, Conflict Loss: 2.270122578806877e-08, Group Mate Loss: 127.96379852294922\n",
            "Row Sum Loss: 0.0010629588505253196, Col Sum Loss: 0.0010629419703036547, Conflict Loss: 1.9678276785839444e-08, Group Mate Loss: 127.93416595458984\n",
            "Row Sum Loss: 0.004503574687987566, Col Sum Loss: 0.004503575619310141, Conflict Loss: 1.6741589448088234e-08, Group Mate Loss: 127.8691635131836\n",
            "Row Sum Loss: 0.02429014816880226, Col Sum Loss: 0.024290144443511963, Conflict Loss: 1.3665201414880812e-08, Group Mate Loss: 127.70459747314453\n",
            "Row Sum Loss: 0.18567043542861938, Col Sum Loss: 0.18567043542861938, Conflict Loss: 1.0313940812523015e-08, Group Mate Loss: 127.20063018798828\n",
            "Row Sum Loss: 1.174696922302246, Col Sum Loss: 1.174696922302246, Conflict Loss: 7.75454545021148e-09, Group Mate Loss: 126.00907135009766\n",
            "Row Sum Loss: 0.02554647997021675, Col Sum Loss: 0.025546478107571602, Conflict Loss: 1.5623527360730805e-08, Group Mate Loss: 127.68081665039062\n",
            "Row Sum Loss: 0.0010618743253871799, Col Sum Loss: 0.0010618630331009626, Conflict Loss: 2.6974854350214628e-08, Group Mate Loss: 127.91873931884766\n",
            "Row Sum Loss: 0.00016467167006339878, Col Sum Loss: 0.00016467021487187594, Conflict Loss: 4.298389200130259e-08, Group Mate Loss: 127.96359252929688\n",
            "Row Sum Loss: 9.650253923609853e-05, Col Sum Loss: 9.650581341702491e-05, Conflict Loss: 6.471594105050826e-08, Group Mate Loss: 127.97494506835938\n",
            "Row Sum Loss: 0.007947416976094246, Col Sum Loss: 0.007947379723191261, Conflict Loss: 8.106642894745164e-07, Group Mate Loss: 127.83174133300781\n",
            "Row Sum Loss: 0.009854571893811226, Col Sum Loss: 0.009854495525360107, Conflict Loss: 1.0667836249922402e-06, Group Mate Loss: 127.81412506103516\n",
            "Row Sum Loss: 0.019120046868920326, Col Sum Loss: 0.01911996863782406, Conflict Loss: 1.2512583680290845e-06, Group Mate Loss: 127.74408721923828\n",
            "Row Sum Loss: 0.06036514788866043, Col Sum Loss: 0.06036520004272461, Conflict Loss: 1.2971274827577872e-06, Group Mate Loss: 127.55101776123047\n",
            "Row Sum Loss: 0.29969918727874756, Col Sum Loss: 0.2996993958950043, Conflict Loss: 1.1854547210532473e-06, Group Mate Loss: 127.00962829589844\n",
            "Row Sum Loss: 0.5640023350715637, Col Sum Loss: 0.5640025734901428, Conflict Loss: 1.1956681191804819e-06, Group Mate Loss: 126.64398193359375\n",
            "Row Sum Loss: 0.08880619704723358, Col Sum Loss: 0.08880621939897537, Conflict Loss: 1.7922559436556185e-06, Group Mate Loss: 127.45460510253906\n",
            "Row Sum Loss: 0.02591116726398468, Col Sum Loss: 0.0259108804166317, Conflict Loss: 2.3146737930801464e-06, Group Mate Loss: 127.69938659667969\n",
            "Row Sum Loss: 0.014941837638616562, Col Sum Loss: 0.01494142971932888, Conflict Loss: 2.5824401745921932e-06, Group Mate Loss: 127.76750946044922\n",
            "Row Sum Loss: 0.01496333722025156, Col Sum Loss: 0.014962876215577126, Conflict Loss: 2.5505707981210435e-06, Group Mate Loss: 127.7651596069336\n"
          ]
        },
        {
          "output_type": "display_data",
          "data": {
            "text/plain": [
              "<Figure size 640x480 with 0 Axes>"
            ]
          },
          "metadata": {}
        },
        {
          "output_type": "stream",
          "name": "stdout",
          "text": [
            "Row Sum Loss: 0.02457503415644169, Col Sum Loss: 0.024574488401412964, Conflict Loss: 2.256638481412665e-06, Group Mate Loss: 127.6998519897461\n",
            "Row Sum Loss: 0.0665549635887146, Col Sum Loss: 0.06655440479516983, Conflict Loss: 1.7894720940603293e-06, Group Mate Loss: 127.51266479492188\n",
            "Row Sum Loss: 0.27727359533309937, Col Sum Loss: 0.27727311849594116, Conflict Loss: 1.2820686379200197e-06, Group Mate Loss: 127.02215576171875\n",
            "Row Sum Loss: 0.6178050637245178, Col Sum Loss: 0.617805004119873, Conflict Loss: 1.0157762062590336e-06, Group Mate Loss: 126.54542541503906\n",
            "Row Sum Loss: 0.11544172465801239, Col Sum Loss: 0.11544069647789001, Conflict Loss: 1.3272439218781074e-06, Group Mate Loss: 127.33943176269531\n",
            "Row Sum Loss: 0.035939350724220276, Col Sum Loss: 0.035937804728746414, Conflict Loss: 1.5473199255211512e-06, Group Mate Loss: 127.60105895996094\n",
            "Row Sum Loss: 0.022911960259079933, Col Sum Loss: 0.02290976420044899, Conflict Loss: 1.574368297951878e-06, Group Mate Loss: 127.65667724609375\n",
            "Row Sum Loss: 0.026736818253993988, Col Sum Loss: 0.026733893901109695, Conflict Loss: 1.423497906216653e-06, Group Mate Loss: 127.6109848022461\n",
            "Row Sum Loss: 0.05221807211637497, Col Sum Loss: 0.05221415311098099, Conflict Loss: 1.1481577075755922e-06, Group Mate Loss: 127.4451675415039\n",
            "Row Sum Loss: 0.1641782969236374, Col Sum Loss: 0.1641731858253479, Conflict Loss: 8.19974331989215e-07, Group Mate Loss: 127.01542663574219\n",
            "Row Sum Loss: 0.6559957265853882, Col Sum Loss: 0.6559886932373047, Conflict Loss: 5.400841587288596e-07, Group Mate Loss: 126.03382110595703\n",
            "Row Sum Loss: 0.7552940845489502, Col Sum Loss: 0.7552818059921265, Conflict Loss: 5.174015313968994e-07, Group Mate Loss: 125.80435180664062\n",
            "Row Sum Loss: 0.47367826104164124, Col Sum Loss: 0.47366324067115784, Conflict Loss: 6.4637140440027e-07, Group Mate Loss: 126.355712890625\n",
            "Row Sum Loss: 0.2516341805458069, Col Sum Loss: 0.25161978602409363, Conflict Loss: 7.923034672785434e-07, Group Mate Loss: 126.83668518066406\n",
            "Row Sum Loss: 0.157330721616745, Col Sum Loss: 0.15731804072856903, Conflict Loss: 8.667171869092272e-07, Group Mate Loss: 127.07368469238281\n",
            "Row Sum Loss: 0.14001326262950897, Col Sum Loss: 0.1400015652179718, Conflict Loss: 8.308747396768013e-07, Group Mate Loss: 127.10250091552734\n",
            "Row Sum Loss: 0.18888437747955322, Col Sum Loss: 0.1888735443353653, Conflict Loss: 6.992406156314246e-07, Group Mate Loss: 126.9209213256836\n",
            "Row Sum Loss: 0.39438992738723755, Col Sum Loss: 0.3943793475627899, Conflict Loss: 5.249443120192154e-07, Group Mate Loss: 126.41160583496094\n",
            "Row Sum Loss: 0.84743332862854, Col Sum Loss: 0.8474233746528625, Conflict Loss: 4.046290769110783e-07, Group Mate Loss: 125.7054672241211\n",
            "Row Sum Loss: 0.410917729139328, Col Sum Loss: 0.4109066426753998, Conflict Loss: 5.012675501347985e-07, Group Mate Loss: 126.37907409667969\n"
          ]
        },
        {
          "output_type": "display_data",
          "data": {
            "text/plain": [
              "<Figure size 640x480 with 0 Axes>"
            ]
          },
          "metadata": {}
        },
        {
          "output_type": "stream",
          "name": "stdout",
          "text": [
            "Row Sum Loss: 0.23387280106544495, Col Sum Loss: 0.23386098444461823, Conflict Loss: 6.096146876188868e-07, Group Mate Loss: 126.80120849609375\n",
            "Row Sum Loss: 0.1987960934638977, Col Sum Loss: 0.19878387451171875, Conflict Loss: 6.498289621958975e-07, Group Mate Loss: 126.91475677490234\n",
            "Row Sum Loss: 0.2333633303642273, Col Sum Loss: 0.23335067927837372, Conflict Loss: 6.093289925956924e-07, Group Mate Loss: 126.82221221923828\n",
            "Row Sum Loss: 0.34763994812965393, Col Sum Loss: 0.3476271629333496, Conflict Loss: 5.14884845870256e-07, Group Mate Loss: 126.53305053710938\n",
            "Row Sum Loss: 0.5747747421264648, Col Sum Loss: 0.5747622847557068, Conflict Loss: 4.175694243713224e-07, Group Mate Loss: 126.08238220214844\n",
            "Row Sum Loss: 0.6451067328453064, Col Sum Loss: 0.6450957655906677, Conflict Loss: 3.9197826140480174e-07, Group Mate Loss: 125.97991180419922\n",
            "Row Sum Loss: 0.3533855080604553, Col Sum Loss: 0.3533751964569092, Conflict Loss: 4.6363314254449506e-07, Group Mate Loss: 126.4981460571289\n",
            "Row Sum Loss: 0.22373411059379578, Col Sum Loss: 0.2237241268157959, Conflict Loss: 5.27144436546223e-07, Group Mate Loss: 126.80391693115234\n",
            "Row Sum Loss: 0.21280184388160706, Col Sum Loss: 0.2127915918827057, Conflict Loss: 5.304652290760714e-07, Group Mate Loss: 126.8343734741211\n",
            "Row Sum Loss: 0.29455092549324036, Col Sum Loss: 0.29454052448272705, Conflict Loss: 4.752099584948155e-07, Group Mate Loss: 126.62744140625\n",
            "Row Sum Loss: 0.49416762590408325, Col Sum Loss: 0.49415624141693115, Conflict Loss: 4.010043141988717e-07, Group Mate Loss: 126.2229232788086\n",
            "Row Sum Loss: 0.616615355014801, Col Sum Loss: 0.6166032552719116, Conflict Loss: 3.715453260610957e-07, Group Mate Loss: 126.01472473144531\n",
            "Row Sum Loss: 0.4419419765472412, Col Sum Loss: 0.44192999601364136, Conflict Loss: 4.117402738756937e-07, Group Mate Loss: 126.32081604003906\n",
            "Row Sum Loss: 0.30620646476745605, Col Sum Loss: 0.30619484186172485, Conflict Loss: 4.5944094040351047e-07, Group Mate Loss: 126.6086654663086\n",
            "Row Sum Loss: 0.26785942912101746, Col Sum Loss: 0.2678481936454773, Conflict Loss: 4.7095207378333726e-07, Group Mate Loss: 126.69730377197266\n",
            "Row Sum Loss: 0.3127400875091553, Col Sum Loss: 0.3127291202545166, Conflict Loss: 4.387893284274469e-07, Group Mate Loss: 126.58612060546875\n",
            "Row Sum Loss: 0.4444451332092285, Col Sum Loss: 0.44443410634994507, Conflict Loss: 3.870182467835548e-07, Group Mate Loss: 126.31671905517578\n",
            "Row Sum Loss: 0.5364906787872314, Col Sum Loss: 0.5364799499511719, Conflict Loss: 3.616960952967929e-07, Group Mate Loss: 126.15494537353516\n",
            "Row Sum Loss: 0.4274238646030426, Col Sum Loss: 0.42741262912750244, Conflict Loss: 3.8638413002445304e-07, Group Mate Loss: 126.34639739990234\n",
            "Row Sum Loss: 0.33242106437683105, Col Sum Loss: 0.33240967988967896, Conflict Loss: 4.1899778580045677e-07, Group Mate Loss: 126.5455322265625\n"
          ]
        },
        {
          "output_type": "display_data",
          "data": {
            "text/plain": [
              "<Figure size 640x480 with 0 Axes>"
            ]
          },
          "metadata": {}
        }
      ],
      "source": [
        "# Training loop\n",
        "\n",
        "# %matplotlib qt\n",
        "from IPython.display import display, clear_output\n",
        "\n",
        "LOSS=0.0001\n",
        "\n",
        "num_epochs = 400\n",
        "train_input = torch.arange(Nof_users, dtype=torch.float32)\n",
        "\n",
        "seating_arrangements = []\n",
        "\n",
        "# Create a new figure and axes\n",
        "fig, ax = plt.subplots(Rows,  Colums, figsize=(12, 8))\n",
        "#fig.suptitle('Seating Plan')\n",
        "\n",
        "New_input = train_input\n",
        "for epoch in range(num_epochs):\n",
        "    optimizer.zero_grad()\n",
        "    perm_matrix = model(New_input)\n",
        "    loss = custom_loss(output=perm_matrix,pairwise_conflicts=pairwise_conflicts,seat_rows= Rows,seat_cols =Colums,high_importance=20.0,groups=grups, group_penalty = 1,conflict_penalty=1)\n",
        "    loss.backward()\n",
        "    optimizer.step()\n",
        "\n",
        "    # Add noise to the weights every 500 epochs\n",
        "    if (epoch + 1) % 50 == 0:\n",
        "        add_noise_to_weights(model, noise_factor=0.01)\n",
        "\n",
        "    if (epoch + 1) % 20 == 0:\n",
        "        # visualize every 100 epoch\n",
        "        final_perm_matrix = model(train_input)\n",
        "\n",
        "        # Thresholding\n",
        "        threshold = 0.5\n",
        "        perm_matrix_flat = (final_perm_matrix > threshold).float().flatten()\n",
        "\n",
        "        # Find indices where perm_matrix_flat is 1\n",
        "        indices = perm_matrix_flat.nonzero().squeeze()\n",
        "\n",
        "        # Convert indices to numbers between 0 and 23\n",
        "        positions = indices % Nof_users\n",
        "\n",
        "        # Create New_input tensor with all numbers from 0 to 23\n",
        "        New_input = torch.arange(Nof_users, dtype=torch.float32)\n",
        "\n",
        "        # Determine missing numbers not generated in output\n",
        "        missing_numbers = list(set(range(Nof_users)) - set(positions.tolist()))\n",
        "        random.shuffle(missing_numbers)\n",
        "\n",
        "        # Replace positions with actual output values and missing positions with random missing numbers\n",
        "        for i in range(Nof_users):\n",
        "            if i < len(positions):\n",
        "                New_input[i] = positions[i]\n",
        "            else:\n",
        "                New_input[i] = missing_numbers.pop()\n",
        "\n",
        "        #print(New_input)\n",
        "\n",
        "\n",
        "\n",
        "        seat_arrangement = print_person_seat_assignments(final_perm_matrix)\n",
        "        #animate_seating_arrangement(seat_arrangement, pairwise_conflicts, full_names, fig, ax)\n",
        "        green_count, red_count = animate_seating_arrangement(seat_arrangement, pairwise_conflicts, full_names, fig, ax)\n",
        "        if green_count ==Nof_users:\n",
        "            print(f'All seats are correctly assinged, Loss = ', loss.item())\n",
        "            break\n",
        "\n",
        "    # Stop training by reaching to desirable loss\n",
        "    if loss.item() <= LOSS:\n",
        "        print(f'Loss reached below {LOSS} Breaking the loop: ', loss.item())\n",
        "        break\n",
        "\n",
        "    # if (epoch + 1) % 20 == 0:\n",
        "    #     print(f'Epoch [{epoch+1}/{num_epochs}], total_loss: {loss.item()}')\n",
        "    #     for txt in fig.texts:\n",
        "    #         if txt.get_text().startswith('Epoch'):\n",
        "    #             txt.remove()\n",
        "    #     fig.text(0.1, 0.05, f'Epoch [{epoch+1}/{num_epochs}], total_loss: {loss.item()}', fontsize=10, ha='left')\n",
        "\n",
        "\n",
        "# Keep the window open until it's closed manually\n",
        "plt.show()\n"
      ]
    },
    {
      "cell_type": "code",
      "execution_count": 788,
      "id": "5625c190-35e7-47ab-9ed9-b97d5320bb28",
      "metadata": {
        "id": "5625c190-35e7-47ab-9ed9-b97d5320bb28"
      },
      "outputs": [],
      "source": [
        "# Add noise to the weights if needed\n",
        "add_noise_to_weights(model, noise_factor=0.05)\n",
        "\n",
        "# Lowering learning rate if needed\n",
        "for param_group in optimizer.param_groups:\n",
        "    param_group['lr'] = 0.0001  # Set the learning rate to a new value (e.g., 0.0001)\n"
      ]
    },
    {
      "cell_type": "code",
      "source": [
        "import matplotlib.pyplot as plt\n",
        "import numpy as np\n",
        "\n",
        "def visualize_seating_arrangement(person_seat_assignments, pairwise_conflicts, full_names, groups):\n",
        "    \"\"\"\n",
        "    Visualizes the seating arrangement in a 4x6 grid with circles representing persons.\n",
        "    If two persons with conflicts are sitting next to each other (right, left, top, or down),\n",
        "    their circles will be red. Persons in the same group will have a different color.\n",
        "\n",
        "    Args:\n",
        "        person_seat_assignments (list): A list of tuples where each tuple is (person, seat).\n",
        "        pairwise_conflicts (torch.Tensor): A 24x24 tensor where 0 means no conflict, and 1 means conflict.\n",
        "        full_names (list): A list containing the full names for each person.\n",
        "        groups (list of lists): A list of lists where each inner list contains indices of persons in the same group.\n",
        "    \"\"\"\n",
        "    fig, ax = plt.subplots(Rows, Colums, figsize=(12, 8))\n",
        "    fig.suptitle('Seating Plan')\n",
        "    # Clear the axes\n",
        "    for a in ax.flat:\n",
        "        a.clear()\n",
        "\n",
        "    seat_person_map = {seat: person for person, seat in person_seat_assignments}\n",
        "\n",
        "    ax_array = np.empty((Rows, Colums), dtype=object)\n",
        "\n",
        "    # Define a color map for groups\n",
        "    group_colors = ['blue', 'green', 'orange', 'purple', 'brown', 'pink', 'gray', 'cyan','gray', 'black']\n",
        "\n",
        "    for i in range(Rows):\n",
        "        for j in range(Colums):\n",
        "            seat = i * Colums + j\n",
        "            person = seat_person_map.get(seat)\n",
        "            color = 'white'  # default color\n",
        "            radius = 0.4  # default radius\n",
        "\n",
        "            if person is not None:\n",
        "                # Determine the color based on conflicts and group membership\n",
        "                adjacent_seats = [\n",
        "                    seat - 1 if j > 0 else None,  # Left\n",
        "                    seat + 1 if j < Colums-1 else None,  # Right\n",
        "                    seat - Colums if i > 0 else None,  # Top\n",
        "                    seat + Colums if i < Rows-1 else None,  # Down\n",
        "                ]\n",
        "\n",
        "                # Find the group index for the person\n",
        "                person_group_index = None\n",
        "                for idx, group in enumerate(groups):\n",
        "                    if person in group:\n",
        "                        person_group_index = idx\n",
        "                        break\n",
        "\n",
        "                if person_group_index is not None:\n",
        "                    color = group_colors[person_group_index]\n",
        "\n",
        "                for adjacent_seat in adjacent_seats:\n",
        "                    if adjacent_seat is not None:\n",
        "                        adjacent_person = seat_person_map.get(adjacent_seat)\n",
        "                        if adjacent_person is not None:\n",
        "                            conflict = pairwise_conflicts[person, adjacent_person].item()\n",
        "                            if conflict == -10:\n",
        "                                color = 'red'\n",
        "                                radius = 0.5\n",
        "                                break\n",
        "\n",
        "            if person is not None:\n",
        "                ax[i, j].add_patch(plt.Circle((0.5, 0.5), radius, color=color))\n",
        "                ax[i, j].text(0.5, 0.55, str(person), ha='center', va='center', fontsize=12)\n",
        "                ax[i, j].text(0.5, 0.95, full_names[person], ha='center', va='center', fontsize=8)\n",
        "                ax_array[i, j] = str(person)\n",
        "\n",
        "            ax[i, j].set_aspect('equal')\n",
        "            ax[i, j].axis('off')\n",
        "\n",
        "    plt.show()\n",
        "    return ax_array\n"
      ],
      "metadata": {
        "id": "t3UVCSJ3dD4y"
      },
      "id": "t3UVCSJ3dD4y",
      "execution_count": 789,
      "outputs": []
    },
    {
      "cell_type": "code",
      "execution_count": 790,
      "id": "b27f2add-f38b-4d32-a31c-f4fa891dbd7d",
      "metadata": {
        "id": "b27f2add-f38b-4d32-a31c-f4fa891dbd7d",
        "outputId": "14c77ae7-3186-42c7-eb05-6b312d46b7ab",
        "colab": {
          "base_uri": "https://localhost:8080/",
          "height": 752
        }
      },
      "outputs": [
        {
          "output_type": "display_data",
          "data": {
            "text/plain": [
              "<Figure size 1200x800 with 16 Axes>"
            ],
            "image/png": "[encoded data removed]"
          },
          "metadata": {}
        }
      ],
      "source": [
        "# Final output\n",
        "%matplotlib inline\n",
        "from IPython.display import display\n",
        "\n",
        "\n",
        "final_perm_matrix = model(train_input)\n",
        "# seat_arrangement = print_person_seat_assignments(final_perm_matrix)\n",
        "# usage:\n",
        "best_seating=visualize_seating_arrangement(seat_arrangement, pairwise_conflicts, full_names,grups)\n",
        "\n"
      ]
    },
    {
      "cell_type": "code",
      "execution_count": 790,
      "id": "69daa66a-6849-4853-af02-2daae9a495a8",
      "metadata": {
        "id": "69daa66a-6849-4853-af02-2daae9a495a8"
      },
      "outputs": [],
      "source": []
    }
  ],
  "metadata": {
    "colab": {
      "provenance": []
    },
    "kernelspec": {
      "display_name": "Python 3",
      "name": "python3"
    },
    "language_info": {
      "codemirror_mode": {
        "name": "ipython",
        "version": 3
      },
      "file_extension": ".py",
      "mimetype": "text/x-python",
      "name": "python",
      "nbconvert_exporter": "python",
      "pygments_lexer": "ipython3",
      "version": "3.11.7"
    }
  },
  "nbformat": 4,
  "nbformat_minor": 5
}